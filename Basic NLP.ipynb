{
 "cells": [
  {
   "cell_type": "code",
   "execution_count": 1,
   "metadata": {},
   "outputs": [],
   "source": [
    "import nltk\n",
    "from nltk.tokenize import word_tokenize, sent_tokenize # to break text into word/sentences"
   ]
  },
  {
   "cell_type": "code",
   "execution_count": 2,
   "metadata": {},
   "outputs": [],
   "source": [
    "text = 'Harry Potter is a series of seven fantasy novels written by British author J. K. Rowling. The novels chronicle the lives of a young wizard, Harry Potter, and his friends Hermione Granger and Ron Weasley, all of whom are students at Hogwarts School of Witchcraft and Wizardry.'"
   ]
  },
  {
   "cell_type": "code",
   "execution_count": 3,
   "metadata": {},
   "outputs": [
    {
     "name": "stdout",
     "output_type": "stream",
     "text": [
      "['Harry Potter is a series of seven fantasy novels written by British author J. K. Rowling.', 'The novels chronicle the lives of a young wizard, Harry Potter, and his friends Hermione Granger and Ron Weasley, all of whom are students at Hogwarts School of Witchcraft and Wizardry.']\n"
     ]
    }
   ],
   "source": [
    "# breaking above text into sentecnes\n",
    "sents = sent_tokenize(text)\n",
    "print(sents)"
   ]
  },
  {
   "cell_type": "code",
   "execution_count": 6,
   "metadata": {},
   "outputs": [
    {
     "name": "stdout",
     "output_type": "stream",
     "text": [
      "[['Harry', 'Potter', 'is', 'a', 'series', 'of', 'seven', 'fantasy', 'novels', 'written', 'by', 'British', 'author', 'J.', 'K.', 'Rowling', '.'], ['The', 'novels', 'chronicle', 'the', 'lives', 'of', 'a', 'young', 'wizard', ',', 'Harry', 'Potter', ',', 'and', 'his', 'friends', 'Hermione', 'Granger', 'and', 'Ron', 'Weasley', ',', 'all', 'of', 'whom', 'are', 'students', 'at', 'Hogwarts', 'School', 'of', 'Witchcraft', 'and', 'Wizardry', '.']]\n"
     ]
    }
   ],
   "source": [
    "# breaking sentences into words.\n",
    "words = [word_tokenize(sent) for sent in sents]\n",
    "print(words)"
   ]
  },
  {
   "cell_type": "code",
   "execution_count": 7,
   "metadata": {},
   "outputs": [
    {
     "name": "stdout",
     "output_type": "stream",
     "text": [
      "2\n"
     ]
    }
   ],
   "source": [
    "# note that punctuations are treated as individual tokens"
   ]
  },
  {
   "cell_type": "code",
   "execution_count": 10,
   "metadata": {},
   "outputs": [],
   "source": [
    "from nltk.corpus import stopwords\n",
    "from string import punctuation"
   ]
  },
  {
   "cell_type": "code",
   "execution_count": 11,
   "metadata": {},
   "outputs": [],
   "source": [
    "customStopWords = set(stopwords.words('english') + list(punctuation))"
   ]
  },
  {
   "cell_type": "code",
   "execution_count": 12,
   "metadata": {},
   "outputs": [
    {
     "name": "stdout",
     "output_type": "stream",
     "text": [
      "{'haven', 'is', 'our', 'was', 'they', 'over', 'don', 'any', 'how', \"wouldn't\", '&', '^', 'where', 'same', 'wouldn', 'during', 'before', 'there', 'were', '\\\\', '+', 'mightn', \"don't\", 'only', 'here', '|', 'hadn', 'd', \"won't\", 'until', 'aren', \"should've\", 'because', 'shan', 'ourselves', 'them', 're', 'yours', 'when', 'not', 'shouldn', 'this', 'if', 'on', \"mustn't\", 'theirs', '-', ',', '`', 'needn', '?', 'against', 'didn', 'weren', 'yourself', 'to', \"couldn't\", \"you'd\", 'does', \"aren't\", '#', 'have', 'own', '!', \"haven't\", 'into', \"that'll\", 'can', 'been', 'ain', 'having', 'in', 'now', '%', 'that', \"shouldn't\", 'whom', '=', 'below', 'just', 'you', 'down', 'it', 'then', 'its', 'why', 'all', 'won', 'had', 'by', \"you'll\", 'their', 'very', '*', 'your', 'from', \"didn't\", 'who', 'few', 'isn', '<', 'at', 'with', 'did', 'through', 'nor', 'or', 'most', 'itself', \"you're\", 'than', 'other', \"hasn't\", \"isn't\", '\"', 'she', 'between', 'i', 'after', 'an', 'off', 'doesn', '}', 'his', 'm', \"doesn't\", 'do', 'will', '{', 'up', 'yourselves', \"you've\", '@', 'o', 'as', 'll', ']', 'her', '_', \"weren't\", '/', 'myself', 'are', \"mightn't\", \"hadn't\", \"wasn't\", 'we', 'and', '>', 'has', 'too', 't', 'couldn', 'the', 'some', '$', 'ours', 'my', 'no', 'a', 'herself', 'mustn', '.', \"shan't\", ')', 'these', 'above', 'he', 'himself', 'hasn', 'more', 'being', ';', 'such', '~', 'should', 'me', 'but', ':', 'y', \"needn't\", 've', \"it's\", 'hers', 'ma', 'once', \"she's\", 'themselves', 'for', 'of', '[', 'be', 'further', 'both', 'what', 'so', 'which', 'each', 'doing', 'while', 'out', \"'\", 'am', 'again', 'about', 'wasn', 'those', 's', '(', 'him', 'under'}\n"
     ]
    }
   ],
   "source": [
    "print(customStopWords\n",
    "     )"
   ]
  },
  {
   "cell_type": "code",
   "execution_count": 13,
   "metadata": {},
   "outputs": [
    {
     "name": "stdout",
     "output_type": "stream",
     "text": [
      "['Harry', 'Potter', 'series', 'seven', 'fantasy', 'novels', 'written', 'British', 'author', 'J.', 'K.', 'Rowling', 'The', 'novels', 'chronicle', 'lives', 'young', 'wizard', 'Harry', 'Potter', 'friends', 'Hermione', 'Granger', 'Ron', 'Weasley', 'students', 'Hogwarts', 'School', 'Witchcraft', 'Wizardry']\n"
     ]
    }
   ],
   "source": [
    "wordsWOStopWords = [word for word in word_tokenize(text) if word not in customStopWords]\n",
    "print(wordsWOStopWords)"
   ]
  },
  {
   "cell_type": "code",
   "execution_count": 14,
   "metadata": {},
   "outputs": [],
   "source": [
    "from nltk.collocations import *"
   ]
  },
  {
   "cell_type": "code",
   "execution_count": 15,
   "metadata": {},
   "outputs": [
    {
     "data": {
      "text/plain": [
       "[(('British', 'author'), 1),\n",
       " (('Granger', 'Ron'), 1),\n",
       " (('Harry', 'Potter'), 2),\n",
       " (('Hermione', 'Granger'), 1),\n",
       " (('Hogwarts', 'School'), 1),\n",
       " (('J.', 'K.'), 1),\n",
       " (('K.', 'Rowling'), 1),\n",
       " (('Potter', 'friends'), 1),\n",
       " (('Potter', 'series'), 1),\n",
       " (('Ron', 'Weasley'), 1),\n",
       " (('Rowling', 'The'), 1),\n",
       " (('School', 'Witchcraft'), 1),\n",
       " (('The', 'novels'), 1),\n",
       " (('Weasley', 'students'), 1),\n",
       " (('Witchcraft', 'Wizardry'), 1),\n",
       " (('author', 'J.'), 1),\n",
       " (('chronicle', 'lives'), 1),\n",
       " (('fantasy', 'novels'), 1),\n",
       " (('friends', 'Hermione'), 1),\n",
       " (('lives', 'young'), 1),\n",
       " (('novels', 'chronicle'), 1),\n",
       " (('novels', 'written'), 1),\n",
       " (('series', 'seven'), 1),\n",
       " (('seven', 'fantasy'), 1),\n",
       " (('students', 'Hogwarts'), 1),\n",
       " (('wizard', 'Harry'), 1),\n",
       " (('written', 'British'), 1),\n",
       " (('young', 'wizard'), 1)]"
      ]
     },
     "execution_count": 15,
     "metadata": {},
     "output_type": "execute_result"
    }
   ],
   "source": [
    "# constructing bigrams and storing them in finders to aply sort function\n",
    "bigram_measures = nltk.collocations.BigramAssocMeasures()\n",
    "finder = BigramCollocationFinder.from_words(wordsWOStopWords)\n",
    "sorted(finder.ngram_fd.items()) # printing bigram along with their frequencies,most imoportant bigram will list first"
   ]
  },
  {
   "cell_type": "code",
   "execution_count": 16,
   "metadata": {},
   "outputs": [
    {
     "data": {
      "text/plain": [
       "[(('British', 'author', 'J.'), 1),\n",
       " (('Granger', 'Ron', 'Weasley'), 1),\n",
       " (('Harry', 'Potter', 'friends'), 1),\n",
       " (('Harry', 'Potter', 'series'), 1),\n",
       " (('Hermione', 'Granger', 'Ron'), 1),\n",
       " (('Hogwarts', 'School', 'Witchcraft'), 1),\n",
       " (('J.', 'K.', 'Rowling'), 1),\n",
       " (('K.', 'Rowling', 'The'), 1),\n",
       " (('Potter', 'friends', 'Hermione'), 1),\n",
       " (('Potter', 'series', 'seven'), 1),\n",
       " (('Ron', 'Weasley', 'students'), 1),\n",
       " (('Rowling', 'The', 'novels'), 1),\n",
       " (('School', 'Witchcraft', 'Wizardry'), 1),\n",
       " (('The', 'novels', 'chronicle'), 1),\n",
       " (('Weasley', 'students', 'Hogwarts'), 1),\n",
       " (('author', 'J.', 'K.'), 1),\n",
       " (('chronicle', 'lives', 'young'), 1),\n",
       " (('fantasy', 'novels', 'written'), 1),\n",
       " (('friends', 'Hermione', 'Granger'), 1),\n",
       " (('lives', 'young', 'wizard'), 1),\n",
       " (('novels', 'chronicle', 'lives'), 1),\n",
       " (('novels', 'written', 'British'), 1),\n",
       " (('series', 'seven', 'fantasy'), 1),\n",
       " (('seven', 'fantasy', 'novels'), 1),\n",
       " (('students', 'Hogwarts', 'School'), 1),\n",
       " (('wizard', 'Harry', 'Potter'), 1),\n",
       " (('written', 'British', 'author'), 1),\n",
       " (('young', 'wizard', 'Harry'), 1)]"
      ]
     },
     "execution_count": 16,
     "metadata": {},
     "output_type": "execute_result"
    }
   ],
   "source": [
    "trigram_measures = nltk.collocations.TrigramAssocMeasures()\n",
    "finder1 = TrigramCollocationFinder.from_words(wordsWOStopWords)\n",
    "sorted(finder1.ngram_fd.items())"
   ]
  },
  {
   "cell_type": "code",
   "execution_count": 17,
   "metadata": {},
   "outputs": [],
   "source": [
    "# stemming and part of speech\n",
    "text1 = 'mary closed on closing night when she was in the mood to close'\n",
    "from nltk.stem.lancaster import LancasterStemmer\n",
    "st = LancasterStemmer()\n",
    "stemmedWords = [st.stem(word) for word in word_tokenize(text1)]"
   ]
  },
  {
   "cell_type": "code",
   "execution_count": 18,
   "metadata": {},
   "outputs": [
    {
     "name": "stdout",
     "output_type": "stream",
     "text": [
      "['mary', 'clos', 'on', 'clos', 'night', 'when', 'she', 'was', 'in', 'the', 'mood', 'to', 'clos']\n"
     ]
    }
   ],
   "source": [
    "print(stemmedWords)"
   ]
  },
  {
   "cell_type": "code",
   "execution_count": 19,
   "metadata": {},
   "outputs": [
    {
     "ename": "LookupError",
     "evalue": "\n**********************************************************************\n  Resource \u001b[93maveraged_perceptron_tagger\u001b[0m not found.\n  Please use the NLTK Downloader to obtain the resource:\n\n  \u001b[31m>>> import nltk\n  >>> nltk.download('averaged_perceptron_tagger')\n  \u001b[0m\n  For more information see: https://www.nltk.org/data.html\n\n  Attempted to load \u001b[93mtaggers/averaged_perceptron_tagger/averaged_perceptron_tagger.pickle\u001b[0m\n\n  Searched in:\n    - '/Users/akanshajajodia/nltk_data'\n    - '/Users/akanshajajodia/opt/anaconda3/nltk_data'\n    - '/Users/akanshajajodia/opt/anaconda3/share/nltk_data'\n    - '/Users/akanshajajodia/opt/anaconda3/lib/nltk_data'\n    - '/usr/share/nltk_data'\n    - '/usr/local/share/nltk_data'\n    - '/usr/lib/nltk_data'\n    - '/usr/local/lib/nltk_data'\n**********************************************************************\n",
     "output_type": "error",
     "traceback": [
      "\u001b[0;31m---------------------------------------------------------------------------\u001b[0m",
      "\u001b[0;31mLookupError\u001b[0m                               Traceback (most recent call last)",
      "\u001b[0;32m<ipython-input-19-d8b5c2a2eb26>\u001b[0m in \u001b[0;36m<module>\u001b[0;34m\u001b[0m\n\u001b[0;32m----> 1\u001b[0;31m \u001b[0mnltk\u001b[0m\u001b[0;34m.\u001b[0m\u001b[0mpos_tag\u001b[0m\u001b[0;34m(\u001b[0m\u001b[0mword_tokenize\u001b[0m\u001b[0;34m(\u001b[0m\u001b[0mtext1\u001b[0m\u001b[0;34m)\u001b[0m\u001b[0;34m)\u001b[0m\u001b[0;34m\u001b[0m\u001b[0;34m\u001b[0m\u001b[0m\n\u001b[0m",
      "\u001b[0;32m~/opt/anaconda3/lib/python3.7/site-packages/nltk/tag/__init__.py\u001b[0m in \u001b[0;36mpos_tag\u001b[0;34m(tokens, tagset, lang)\u001b[0m\n\u001b[1;32m    159\u001b[0m     \u001b[0;34m:\u001b[0m\u001b[0mrtype\u001b[0m\u001b[0;34m:\u001b[0m \u001b[0mlist\u001b[0m\u001b[0;34m(\u001b[0m\u001b[0mtuple\u001b[0m\u001b[0;34m(\u001b[0m\u001b[0mstr\u001b[0m\u001b[0;34m,\u001b[0m \u001b[0mstr\u001b[0m\u001b[0;34m)\u001b[0m\u001b[0;34m)\u001b[0m\u001b[0;34m\u001b[0m\u001b[0;34m\u001b[0m\u001b[0m\n\u001b[1;32m    160\u001b[0m     \"\"\"\n\u001b[0;32m--> 161\u001b[0;31m     \u001b[0mtagger\u001b[0m \u001b[0;34m=\u001b[0m \u001b[0m_get_tagger\u001b[0m\u001b[0;34m(\u001b[0m\u001b[0mlang\u001b[0m\u001b[0;34m)\u001b[0m\u001b[0;34m\u001b[0m\u001b[0;34m\u001b[0m\u001b[0m\n\u001b[0m\u001b[1;32m    162\u001b[0m     \u001b[0;32mreturn\u001b[0m \u001b[0m_pos_tag\u001b[0m\u001b[0;34m(\u001b[0m\u001b[0mtokens\u001b[0m\u001b[0;34m,\u001b[0m \u001b[0mtagset\u001b[0m\u001b[0;34m,\u001b[0m \u001b[0mtagger\u001b[0m\u001b[0;34m,\u001b[0m \u001b[0mlang\u001b[0m\u001b[0;34m)\u001b[0m\u001b[0;34m\u001b[0m\u001b[0;34m\u001b[0m\u001b[0m\n\u001b[1;32m    163\u001b[0m \u001b[0;34m\u001b[0m\u001b[0m\n",
      "\u001b[0;32m~/opt/anaconda3/lib/python3.7/site-packages/nltk/tag/__init__.py\u001b[0m in \u001b[0;36m_get_tagger\u001b[0;34m(lang)\u001b[0m\n\u001b[1;32m    105\u001b[0m         \u001b[0mtagger\u001b[0m\u001b[0;34m.\u001b[0m\u001b[0mload\u001b[0m\u001b[0;34m(\u001b[0m\u001b[0map_russian_model_loc\u001b[0m\u001b[0;34m)\u001b[0m\u001b[0;34m\u001b[0m\u001b[0;34m\u001b[0m\u001b[0m\n\u001b[1;32m    106\u001b[0m     \u001b[0;32melse\u001b[0m\u001b[0;34m:\u001b[0m\u001b[0;34m\u001b[0m\u001b[0;34m\u001b[0m\u001b[0m\n\u001b[0;32m--> 107\u001b[0;31m         \u001b[0mtagger\u001b[0m \u001b[0;34m=\u001b[0m \u001b[0mPerceptronTagger\u001b[0m\u001b[0;34m(\u001b[0m\u001b[0;34m)\u001b[0m\u001b[0;34m\u001b[0m\u001b[0;34m\u001b[0m\u001b[0m\n\u001b[0m\u001b[1;32m    108\u001b[0m     \u001b[0;32mreturn\u001b[0m \u001b[0mtagger\u001b[0m\u001b[0;34m\u001b[0m\u001b[0;34m\u001b[0m\u001b[0m\n\u001b[1;32m    109\u001b[0m \u001b[0;34m\u001b[0m\u001b[0m\n",
      "\u001b[0;32m~/opt/anaconda3/lib/python3.7/site-packages/nltk/tag/perceptron.py\u001b[0m in \u001b[0;36m__init__\u001b[0;34m(self, load)\u001b[0m\n\u001b[1;32m    160\u001b[0m         \u001b[0;32mif\u001b[0m \u001b[0mload\u001b[0m\u001b[0;34m:\u001b[0m\u001b[0;34m\u001b[0m\u001b[0;34m\u001b[0m\u001b[0m\n\u001b[1;32m    161\u001b[0m             AP_MODEL_LOC = 'file:' + str(\n\u001b[0;32m--> 162\u001b[0;31m                 \u001b[0mfind\u001b[0m\u001b[0;34m(\u001b[0m\u001b[0;34m'taggers/averaged_perceptron_tagger/'\u001b[0m \u001b[0;34m+\u001b[0m \u001b[0mPICKLE\u001b[0m\u001b[0;34m)\u001b[0m\u001b[0;34m\u001b[0m\u001b[0;34m\u001b[0m\u001b[0m\n\u001b[0m\u001b[1;32m    163\u001b[0m             )\n\u001b[1;32m    164\u001b[0m             \u001b[0mself\u001b[0m\u001b[0;34m.\u001b[0m\u001b[0mload\u001b[0m\u001b[0;34m(\u001b[0m\u001b[0mAP_MODEL_LOC\u001b[0m\u001b[0;34m)\u001b[0m\u001b[0;34m\u001b[0m\u001b[0;34m\u001b[0m\u001b[0m\n",
      "\u001b[0;32m~/opt/anaconda3/lib/python3.7/site-packages/nltk/data.py\u001b[0m in \u001b[0;36mfind\u001b[0;34m(resource_name, paths)\u001b[0m\n\u001b[1;32m    699\u001b[0m     \u001b[0msep\u001b[0m \u001b[0;34m=\u001b[0m \u001b[0;34m'*'\u001b[0m \u001b[0;34m*\u001b[0m \u001b[0;36m70\u001b[0m\u001b[0;34m\u001b[0m\u001b[0;34m\u001b[0m\u001b[0m\n\u001b[1;32m    700\u001b[0m     \u001b[0mresource_not_found\u001b[0m \u001b[0;34m=\u001b[0m \u001b[0;34m'\\n%s\\n%s\\n%s\\n'\u001b[0m \u001b[0;34m%\u001b[0m \u001b[0;34m(\u001b[0m\u001b[0msep\u001b[0m\u001b[0;34m,\u001b[0m \u001b[0mmsg\u001b[0m\u001b[0;34m,\u001b[0m \u001b[0msep\u001b[0m\u001b[0;34m)\u001b[0m\u001b[0;34m\u001b[0m\u001b[0;34m\u001b[0m\u001b[0m\n\u001b[0;32m--> 701\u001b[0;31m     \u001b[0;32mraise\u001b[0m \u001b[0mLookupError\u001b[0m\u001b[0;34m(\u001b[0m\u001b[0mresource_not_found\u001b[0m\u001b[0;34m)\u001b[0m\u001b[0;34m\u001b[0m\u001b[0;34m\u001b[0m\u001b[0m\n\u001b[0m\u001b[1;32m    702\u001b[0m \u001b[0;34m\u001b[0m\u001b[0m\n\u001b[1;32m    703\u001b[0m \u001b[0;34m\u001b[0m\u001b[0m\n",
      "\u001b[0;31mLookupError\u001b[0m: \n**********************************************************************\n  Resource \u001b[93maveraged_perceptron_tagger\u001b[0m not found.\n  Please use the NLTK Downloader to obtain the resource:\n\n  \u001b[31m>>> import nltk\n  >>> nltk.download('averaged_perceptron_tagger')\n  \u001b[0m\n  For more information see: https://www.nltk.org/data.html\n\n  Attempted to load \u001b[93mtaggers/averaged_perceptron_tagger/averaged_perceptron_tagger.pickle\u001b[0m\n\n  Searched in:\n    - '/Users/akanshajajodia/nltk_data'\n    - '/Users/akanshajajodia/opt/anaconda3/nltk_data'\n    - '/Users/akanshajajodia/opt/anaconda3/share/nltk_data'\n    - '/Users/akanshajajodia/opt/anaconda3/lib/nltk_data'\n    - '/usr/share/nltk_data'\n    - '/usr/local/share/nltk_data'\n    - '/usr/lib/nltk_data'\n    - '/usr/local/lib/nltk_data'\n**********************************************************************\n"
     ]
    }
   ],
   "source": [
    "nltk.pos_tag(word_tokenize(text1))"
   ]
  },
  {
   "cell_type": "code",
   "execution_count": 20,
   "metadata": {},
   "outputs": [
    {
     "name": "stderr",
     "output_type": "stream",
     "text": [
      "[nltk_data] Downloading package averaged_perceptron_tagger to\n",
      "[nltk_data]     /Users/akanshajajodia/nltk_data...\n",
      "[nltk_data]   Unzipping taggers/averaged_perceptron_tagger.zip.\n"
     ]
    },
    {
     "data": {
      "text/plain": [
       "True"
      ]
     },
     "execution_count": 20,
     "metadata": {},
     "output_type": "execute_result"
    }
   ],
   "source": [
    "nltk.download('averaged_perceptron_tagger')"
   ]
  },
  {
   "cell_type": "code",
   "execution_count": 21,
   "metadata": {},
   "outputs": [
    {
     "data": {
      "text/plain": [
       "[('mary', 'NN'),\n",
       " ('closed', 'VBD'),\n",
       " ('on', 'IN'),\n",
       " ('closing', 'NN'),\n",
       " ('night', 'NN'),\n",
       " ('when', 'WRB'),\n",
       " ('she', 'PRP'),\n",
       " ('was', 'VBD'),\n",
       " ('in', 'IN'),\n",
       " ('the', 'DT'),\n",
       " ('mood', 'NN'),\n",
       " ('to', 'TO'),\n",
       " ('close', 'VB')]"
      ]
     },
     "execution_count": 21,
     "metadata": {},
     "output_type": "execute_result"
    }
   ],
   "source": [
    "nltk.pos_tag(word_tokenize(text1))"
   ]
  },
  {
   "cell_type": "code",
   "execution_count": 24,
   "metadata": {},
   "outputs": [
    {
     "name": "stdout",
     "output_type": "stream",
     "text": [
      "Synset('bass.n.01') the lowest part of the musical range\n",
      "Synset('bass.n.02') the lowest part in polyphonic music\n",
      "Synset('bass.n.03') an adult male singer with the lowest voice\n",
      "Synset('sea_bass.n.01') the lean flesh of a saltwater fish of the family Serranidae\n",
      "Synset('freshwater_bass.n.01') any of various North American freshwater fish with lean flesh (especially of the genus Micropterus)\n",
      "Synset('bass.n.06') the lowest adult male singing voice\n",
      "Synset('bass.n.07') the member with the lowest range of a family of musical instruments\n",
      "Synset('bass.n.08') nontechnical name for any of numerous edible marine and freshwater spiny-finned fishes\n",
      "Synset('bass.s.01') having or denoting a low vocal or instrumental range\n"
     ]
    },
    {
     "name": "stderr",
     "output_type": "stream",
     "text": [
      "[nltk_data] Downloading package wordnet to\n",
      "[nltk_data]     /Users/akanshajajodia/nltk_data...\n",
      "[nltk_data]   Package wordnet is already up-to-date!\n"
     ]
    }
   ],
   "source": [
    "# word sense disambiguation\n",
    "nltk.download('wordnet')\n",
    "from nltk.corpus import wordnet as wn\n",
    "\n",
    "for ss in wn.synsets('bass'):\n",
    "    print(ss,ss.definition())"
   ]
  },
  {
   "cell_type": "code",
   "execution_count": 25,
   "metadata": {},
   "outputs": [],
   "source": [
    "from nltk.wsd import lesk # algo for word sense disambiguation"
   ]
  },
  {
   "cell_type": "code",
   "execution_count": 28,
   "metadata": {},
   "outputs": [
    {
     "name": "stdout",
     "output_type": "stream",
     "text": [
      "Synset('freshwater_bass.n.01') any of various North American freshwater fish with lean flesh (especially of the genus Micropterus)\n"
     ]
    }
   ],
   "source": [
    "sense1 = lesk(word_tokenize(\"Sing in the lower tone, along with the bass\"),'bass')\n",
    "print(sense1,sense1.definition())"
   ]
  },
  {
   "cell_type": "code",
   "execution_count": null,
   "metadata": {},
   "outputs": [],
   "source": []
  }
 ],
 "metadata": {
  "kernelspec": {
   "display_name": "Python 3",
   "language": "python",
   "name": "python3"
  },
  "language_info": {
   "codemirror_mode": {
    "name": "ipython",
    "version": 3
   },
   "file_extension": ".py",
   "mimetype": "text/x-python",
   "name": "python",
   "nbconvert_exporter": "python",
   "pygments_lexer": "ipython3",
   "version": "3.7.4"
  }
 },
 "nbformat": 4,
 "nbformat_minor": 2
}
