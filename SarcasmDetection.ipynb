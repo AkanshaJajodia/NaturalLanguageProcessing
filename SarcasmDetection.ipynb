{
  "nbformat": 4,
  "nbformat_minor": 0,
  "metadata": {
    "colab": {
      "name": "SarcasmDetection.ipynb",
      "provenance": [],
      "authorship_tag": "ABX9TyObRPPf5w/BfQzfYhJbPGiq"
    },
    "kernelspec": {
      "name": "python3",
      "display_name": "Python 3"
    }
  },
  "cells": [
    {
      "cell_type": "code",
      "metadata": {
        "colab": {
          "base_uri": "https://localhost:8080/"
        },
        "id": "FTO5ujpgRrik",
        "outputId": "7012bbd2-e151-4745-d343-ae80f3664781"
      },
      "source": [
        "\n",
        "%matplotlib inline\n",
        "\n",
        "import matplotlib.pyplot as plt\n",
        "import numpy as np\n",
        "import pandas as pd\n",
        "from keras import models\n",
        "from keras import layers\n",
        "from keras import optimizers\n",
        "from sklearn.preprocessing import OneHotEncoder\n",
        "from sklearn.preprocessing import LabelEncoder\n",
        "import seaborn as sns\n",
        "import json\n",
        "from os import listdir\n",
        "from os.path import isfile, join\n",
        "from keras.preprocessing.text import Tokenizer\n",
        "from keras.preprocessing.sequence import pad_sequences\n",
        "from sklearn.model_selection import train_test_split\n",
        "from keras.layers import Conv1D, MaxPooling1D, Embedding,LSTM,Dropout\n",
        "import nltk\n",
        "from nltk.stem import WordNetLemmatizer\n",
        "nltk.download('wordnet')\n",
        "nltk.download('stopwords')\n",
        "from tensorflow.python.client import device_lib\n",
        "import tensorflow as tf\n",
        "import re"
      ],
      "execution_count": null,
      "outputs": [
        {
          "output_type": "stream",
          "text": [
            "[nltk_data] Downloading package wordnet to /root/nltk_data...\n",
            "[nltk_data]   Unzipping corpora/wordnet.zip.\n",
            "[nltk_data] Downloading package stopwords to /root/nltk_data...\n",
            "[nltk_data]   Unzipping corpora/stopwords.zip.\n"
          ],
          "name": "stdout"
        }
      ]
    },
    {
      "cell_type": "code",
      "metadata": {
        "colab": {
          "base_uri": "https://localhost:8080/"
        },
        "id": "ouQTlYlnRwIg",
        "outputId": "ba0462fb-7ce6-4409-f299-babb225b3476"
      },
      "source": [
        "nltk.download(\"averaged_perceptron_tagger\")"
      ],
      "execution_count": null,
      "outputs": [
        {
          "output_type": "stream",
          "text": [
            "[nltk_data] Downloading package averaged_perceptron_tagger to\n",
            "[nltk_data]     /root/nltk_data...\n",
            "[nltk_data]   Unzipping taggers/averaged_perceptron_tagger.zip.\n"
          ],
          "name": "stdout"
        },
        {
          "output_type": "execute_result",
          "data": {
            "text/plain": [
              "True"
            ]
          },
          "metadata": {
            "tags": []
          },
          "execution_count": 2
        }
      ]
    },
    {
      "cell_type": "code",
      "metadata": {
        "colab": {
          "base_uri": "https://localhost:8080/"
        },
        "id": "ZoDAGO_dR0mQ",
        "outputId": "5c41db04-4514-4944-b135-702cfb2a1947"
      },
      "source": [
        "from google.colab import drive\n",
        "drive.mount('/content/gdrive')"
      ],
      "execution_count": null,
      "outputs": [
        {
          "output_type": "stream",
          "text": [
            "Mounted at /content/gdrive\n"
          ],
          "name": "stdout"
        }
      ]
    },
    {
      "cell_type": "code",
      "metadata": {
        "colab": {
          "base_uri": "https://localhost:8080/"
        },
        "id": "jC78rFIKR2mL",
        "outputId": "2ad9dec1-0528-4a7e-8656-d9015d80ed98"
      },
      "source": [
        "!ls \"/content/gdrive/My Drive/SD\""
      ],
      "execution_count": null,
      "outputs": [
        {
          "output_type": "stream",
          "text": [
            "Sarcasm_Headlines_Dataset.json\tSarcasm_Headlines_Dataset_v2.json\n"
          ],
          "name": "stdout"
        }
      ]
    },
    {
      "cell_type": "code",
      "metadata": {
        "id": "dNHuCpN3SHyt"
      },
      "source": [
        "datadir=\"/content/gdrive/My Drive/SD/\""
      ],
      "execution_count": null,
      "outputs": []
    },
    {
      "cell_type": "code",
      "metadata": {
        "id": "Am8UallsTneu"
      },
      "source": [
        "data = pd.read_json('/content/gdrive/My Drive/SD/Sarcasm_Headlines_Dataset_v2.json', lines=True, orient='columns', encoding='utf-8')"
      ],
      "execution_count": null,
      "outputs": []
    },
    {
      "cell_type": "code",
      "metadata": {
        "colab": {
          "base_uri": "https://localhost:8080/",
          "height": 204
        },
        "id": "mMicqffZW-ZY",
        "outputId": "ee880fcf-8281-4b3b-abf0-932a83c6d35c"
      },
      "source": [
        "data.head()"
      ],
      "execution_count": null,
      "outputs": [
        {
          "output_type": "execute_result",
          "data": {
            "text/html": [
              "<div>\n",
              "<style scoped>\n",
              "    .dataframe tbody tr th:only-of-type {\n",
              "        vertical-align: middle;\n",
              "    }\n",
              "\n",
              "    .dataframe tbody tr th {\n",
              "        vertical-align: top;\n",
              "    }\n",
              "\n",
              "    .dataframe thead th {\n",
              "        text-align: right;\n",
              "    }\n",
              "</style>\n",
              "<table border=\"1\" class=\"dataframe\">\n",
              "  <thead>\n",
              "    <tr style=\"text-align: right;\">\n",
              "      <th></th>\n",
              "      <th>is_sarcastic</th>\n",
              "      <th>headline</th>\n",
              "      <th>article_link</th>\n",
              "    </tr>\n",
              "  </thead>\n",
              "  <tbody>\n",
              "    <tr>\n",
              "      <th>0</th>\n",
              "      <td>1</td>\n",
              "      <td>thirtysomething scientists unveil doomsday clo...</td>\n",
              "      <td>https://www.theonion.com/thirtysomething-scien...</td>\n",
              "    </tr>\n",
              "    <tr>\n",
              "      <th>1</th>\n",
              "      <td>0</td>\n",
              "      <td>dem rep. totally nails why congress is falling...</td>\n",
              "      <td>https://www.huffingtonpost.com/entry/donna-edw...</td>\n",
              "    </tr>\n",
              "    <tr>\n",
              "      <th>2</th>\n",
              "      <td>0</td>\n",
              "      <td>eat your veggies: 9 deliciously different recipes</td>\n",
              "      <td>https://www.huffingtonpost.com/entry/eat-your-...</td>\n",
              "    </tr>\n",
              "    <tr>\n",
              "      <th>3</th>\n",
              "      <td>1</td>\n",
              "      <td>inclement weather prevents liar from getting t...</td>\n",
              "      <td>https://local.theonion.com/inclement-weather-p...</td>\n",
              "    </tr>\n",
              "    <tr>\n",
              "      <th>4</th>\n",
              "      <td>1</td>\n",
              "      <td>mother comes pretty close to using word 'strea...</td>\n",
              "      <td>https://www.theonion.com/mother-comes-pretty-c...</td>\n",
              "    </tr>\n",
              "  </tbody>\n",
              "</table>\n",
              "</div>"
            ],
            "text/plain": [
              "   is_sarcastic  ...                                       article_link\n",
              "0             1  ...  https://www.theonion.com/thirtysomething-scien...\n",
              "1             0  ...  https://www.huffingtonpost.com/entry/donna-edw...\n",
              "2             0  ...  https://www.huffingtonpost.com/entry/eat-your-...\n",
              "3             1  ...  https://local.theonion.com/inclement-weather-p...\n",
              "4             1  ...  https://www.theonion.com/mother-comes-pretty-c...\n",
              "\n",
              "[5 rows x 3 columns]"
            ]
          },
          "metadata": {
            "tags": []
          },
          "execution_count": 29
        }
      ]
    },
    {
      "cell_type": "code",
      "metadata": {
        "colab": {
          "base_uri": "https://localhost:8080/"
        },
        "id": "4WWQBBB4VTP_",
        "outputId": "e2014ab9-33c2-41f3-bf51-a4a2d68e239d"
      },
      "source": [
        "data.info()"
      ],
      "execution_count": null,
      "outputs": [
        {
          "output_type": "stream",
          "text": [
            "<class 'pandas.core.frame.DataFrame'>\n",
            "RangeIndex: 28619 entries, 0 to 28618\n",
            "Data columns (total 3 columns):\n",
            " #   Column        Non-Null Count  Dtype \n",
            "---  ------        --------------  ----- \n",
            " 0   is_sarcastic  28619 non-null  int64 \n",
            " 1   headline      28619 non-null  object\n",
            " 2   article_link  28619 non-null  object\n",
            "dtypes: int64(1), object(2)\n",
            "memory usage: 670.9+ KB\n"
          ],
          "name": "stdout"
        }
      ]
    },
    {
      "cell_type": "code",
      "metadata": {
        "colab": {
          "base_uri": "https://localhost:8080/",
          "height": 297
        },
        "id": "9rbUolWHXKdu",
        "outputId": "4e02ea45-9d25-4d25-ad56-385535141813"
      },
      "source": [
        "data.describe()"
      ],
      "execution_count": null,
      "outputs": [
        {
          "output_type": "execute_result",
          "data": {
            "text/html": [
              "<div>\n",
              "<style scoped>\n",
              "    .dataframe tbody tr th:only-of-type {\n",
              "        vertical-align: middle;\n",
              "    }\n",
              "\n",
              "    .dataframe tbody tr th {\n",
              "        vertical-align: top;\n",
              "    }\n",
              "\n",
              "    .dataframe thead th {\n",
              "        text-align: right;\n",
              "    }\n",
              "</style>\n",
              "<table border=\"1\" class=\"dataframe\">\n",
              "  <thead>\n",
              "    <tr style=\"text-align: right;\">\n",
              "      <th></th>\n",
              "      <th>is_sarcastic</th>\n",
              "    </tr>\n",
              "  </thead>\n",
              "  <tbody>\n",
              "    <tr>\n",
              "      <th>count</th>\n",
              "      <td>28619.000000</td>\n",
              "    </tr>\n",
              "    <tr>\n",
              "      <th>mean</th>\n",
              "      <td>0.476397</td>\n",
              "    </tr>\n",
              "    <tr>\n",
              "      <th>std</th>\n",
              "      <td>0.499451</td>\n",
              "    </tr>\n",
              "    <tr>\n",
              "      <th>min</th>\n",
              "      <td>0.000000</td>\n",
              "    </tr>\n",
              "    <tr>\n",
              "      <th>25%</th>\n",
              "      <td>0.000000</td>\n",
              "    </tr>\n",
              "    <tr>\n",
              "      <th>50%</th>\n",
              "      <td>0.000000</td>\n",
              "    </tr>\n",
              "    <tr>\n",
              "      <th>75%</th>\n",
              "      <td>1.000000</td>\n",
              "    </tr>\n",
              "    <tr>\n",
              "      <th>max</th>\n",
              "      <td>1.000000</td>\n",
              "    </tr>\n",
              "  </tbody>\n",
              "</table>\n",
              "</div>"
            ],
            "text/plain": [
              "       is_sarcastic\n",
              "count  28619.000000\n",
              "mean       0.476397\n",
              "std        0.499451\n",
              "min        0.000000\n",
              "25%        0.000000\n",
              "50%        0.000000\n",
              "75%        1.000000\n",
              "max        1.000000"
            ]
          },
          "metadata": {
            "tags": []
          },
          "execution_count": 31
        }
      ]
    },
    {
      "cell_type": "code",
      "metadata": {
        "colab": {
          "base_uri": "https://localhost:8080/"
        },
        "id": "XKZkC5-SXh_2",
        "outputId": "01122461-f437-4a05-de1a-db2ff58a728b"
      },
      "source": [
        "data.isnull().sum()"
      ],
      "execution_count": null,
      "outputs": [
        {
          "output_type": "execute_result",
          "data": {
            "text/plain": [
              "is_sarcastic    0\n",
              "headline        0\n",
              "article_link    0\n",
              "dtype: int64"
            ]
          },
          "metadata": {
            "tags": []
          },
          "execution_count": 35
        }
      ]
    },
    {
      "cell_type": "code",
      "metadata": {
        "colab": {
          "base_uri": "https://localhost:8080/",
          "height": 334
        },
        "id": "zZ_uxqo-XJx9",
        "outputId": "03557f9a-4dd0-4254-8414-c84b39a12d04"
      },
      "source": [
        "\n",
        "ax = sns.countplot(data['is_sarcastic'],  palette=\"Set2\")\n"
      ],
      "execution_count": null,
      "outputs": [
        {
          "output_type": "stream",
          "text": [
            "/usr/local/lib/python3.6/dist-packages/seaborn/_decorators.py:43: FutureWarning: Pass the following variable as a keyword arg: x. From version 0.12, the only valid positional argument will be `data`, and passing other arguments without an explicit keyword will result in an error or misinterpretation.\n",
            "  FutureWarning\n"
          ],
          "name": "stderr"
        },
        {
          "output_type": "display_data",
          "data": {
            "image/png": "[encoded data removed]",
            "text/plain": [
              "<Figure size 432x288 with 1 Axes>"
            ]
          },
          "metadata": {
            "tags": [],
            "needs_background": "light"
          }
        }
      ]
    },
    {
      "cell_type": "code",
      "metadata": {
        "colab": {
          "base_uri": "https://localhost:8080/",
          "height": 591
        },
        "id": "vJOknsS-XO28",
        "outputId": "9a789bb3-967f-4428-b21a-417d19073ff2"
      },
      "source": [
        "labels = ['Sarcastic', 'Not Sarcastic']\n",
        "\n",
        "z_percent = (data['is_sarcastic'].value_counts()[0]/ data['is_sarcastic'].value_counts().sum())*100\n",
        "o_percent = (data['is_sarcastic'].value_counts()[1]/ data['is_sarcastic'].value_counts().sum())*100\n",
        "\n",
        "sizes = [z_percent,o_percent]\n",
        "explode = (0, 0.1)\n",
        "plt.figure(figsize=(10,10))\n",
        "plt.pie(sizes, labels=labels, explode = explode, \n",
        "        autopct='%1.1f%%', shadow=True, startangle= 90, pctdistance=0.6)\n",
        "plt.axis('equal')\n",
        "plt.title(\" Percentage of Sarcastic Vs Non-Sarcastic labels\")\n",
        "plt.show()"
      ],
      "execution_count": null,
      "outputs": [
        {
          "output_type": "display_data",
          "data": {
            "image/png": "[encoded data removed]",
            "text/plain": [
              "<Figure size 720x720 with 1 Axes>"
            ]
          },
          "metadata": {
            "tags": []
          }
        }
      ]
    },
    {
      "cell_type": "code",
      "metadata": {
        "colab": {
          "base_uri": "https://localhost:8080/",
          "height": 204
        },
        "id": "J75XEvfWXd4N",
        "outputId": "98713fe4-31ff-48e8-9c07-3e0478a0fd78"
      },
      "source": [
        "data['len'] = data['headline'].apply(lambda x: len(x.split(\" \")))\n",
        "data.head()"
      ],
      "execution_count": null,
      "outputs": [
        {
          "output_type": "execute_result",
          "data": {
            "text/html": [
              "<div>\n",
              "<style scoped>\n",
              "    .dataframe tbody tr th:only-of-type {\n",
              "        vertical-align: middle;\n",
              "    }\n",
              "\n",
              "    .dataframe tbody tr th {\n",
              "        vertical-align: top;\n",
              "    }\n",
              "\n",
              "    .dataframe thead th {\n",
              "        text-align: right;\n",
              "    }\n",
              "</style>\n",
              "<table border=\"1\" class=\"dataframe\">\n",
              "  <thead>\n",
              "    <tr style=\"text-align: right;\">\n",
              "      <th></th>\n",
              "      <th>is_sarcastic</th>\n",
              "      <th>headline</th>\n",
              "      <th>article_link</th>\n",
              "      <th>len</th>\n",
              "    </tr>\n",
              "  </thead>\n",
              "  <tbody>\n",
              "    <tr>\n",
              "      <th>0</th>\n",
              "      <td>1</td>\n",
              "      <td>thirtysomething scientists unveil doomsday clo...</td>\n",
              "      <td>https://www.theonion.com/thirtysomething-scien...</td>\n",
              "      <td>8</td>\n",
              "    </tr>\n",
              "    <tr>\n",
              "      <th>1</th>\n",
              "      <td>0</td>\n",
              "      <td>dem rep. totally nails why congress is falling...</td>\n",
              "      <td>https://www.huffingtonpost.com/entry/donna-edw...</td>\n",
              "      <td>13</td>\n",
              "    </tr>\n",
              "    <tr>\n",
              "      <th>2</th>\n",
              "      <td>0</td>\n",
              "      <td>eat your veggies: 9 deliciously different recipes</td>\n",
              "      <td>https://www.huffingtonpost.com/entry/eat-your-...</td>\n",
              "      <td>7</td>\n",
              "    </tr>\n",
              "    <tr>\n",
              "      <th>3</th>\n",
              "      <td>1</td>\n",
              "      <td>inclement weather prevents liar from getting t...</td>\n",
              "      <td>https://local.theonion.com/inclement-weather-p...</td>\n",
              "      <td>8</td>\n",
              "    </tr>\n",
              "    <tr>\n",
              "      <th>4</th>\n",
              "      <td>1</td>\n",
              "      <td>mother comes pretty close to using word 'strea...</td>\n",
              "      <td>https://www.theonion.com/mother-comes-pretty-c...</td>\n",
              "      <td>9</td>\n",
              "    </tr>\n",
              "  </tbody>\n",
              "</table>\n",
              "</div>"
            ],
            "text/plain": [
              "   is_sarcastic  ... len\n",
              "0             1  ...   8\n",
              "1             0  ...  13\n",
              "2             0  ...   7\n",
              "3             1  ...   8\n",
              "4             1  ...   9\n",
              "\n",
              "[5 rows x 4 columns]"
            ]
          },
          "metadata": {
            "tags": []
          },
          "execution_count": 36
        }
      ]
    },
    {
      "cell_type": "code",
      "metadata": {
        "colab": {
          "base_uri": "https://localhost:8080/"
        },
        "id": "2VJwrocNXr9e",
        "outputId": "386bd298-2980-4699-94a6-5516e4f6e843"
      },
      "source": [
        "data['len'].max()\n"
      ],
      "execution_count": null,
      "outputs": [
        {
          "output_type": "execute_result",
          "data": {
            "text/plain": [
              "151"
            ]
          },
          "metadata": {
            "tags": []
          },
          "execution_count": 37
        }
      ]
    },
    {
      "cell_type": "code",
      "metadata": {
        "colab": {
          "base_uri": "https://localhost:8080/",
          "height": 114
        },
        "id": "HdpF6qUhXuE4",
        "outputId": "d77883f1-ac95-4992-bc62-5109564c4c02"
      },
      "source": [
        "pd.options.display.max_colwidth = 300\n",
        "data[data['len']==39]"
      ],
      "execution_count": null,
      "outputs": [
        {
          "output_type": "execute_result",
          "data": {
            "text/html": [
              "<div>\n",
              "<style scoped>\n",
              "    .dataframe tbody tr th:only-of-type {\n",
              "        vertical-align: middle;\n",
              "    }\n",
              "\n",
              "    .dataframe tbody tr th {\n",
              "        vertical-align: top;\n",
              "    }\n",
              "\n",
              "    .dataframe thead th {\n",
              "        text-align: right;\n",
              "    }\n",
              "</style>\n",
              "<table border=\"1\" class=\"dataframe\">\n",
              "  <thead>\n",
              "    <tr style=\"text-align: right;\">\n",
              "      <th></th>\n",
              "      <th>is_sarcastic</th>\n",
              "      <th>headline</th>\n",
              "      <th>article_link</th>\n",
              "      <th>len</th>\n",
              "    </tr>\n",
              "  </thead>\n",
              "  <tbody>\n",
              "    <tr>\n",
              "      <th>24815</th>\n",
              "      <td>1</td>\n",
              "      <td>elmore leonard, modern prose master, noted for his terse prose style and for writing about things perfectly and succinctly with a remarkable economy of words, unfortunately and sadly expired this gloomy tuesday at the age of 87 years old</td>\n",
              "      <td>https://www.theonion.com/elmore-leonard-modern-prose-master-noted-for-his-ters-1819575450</td>\n",
              "      <td>39</td>\n",
              "    </tr>\n",
              "  </tbody>\n",
              "</table>\n",
              "</div>"
            ],
            "text/plain": [
              "       is_sarcastic  ... len\n",
              "24815             1  ...  39\n",
              "\n",
              "[1 rows x 4 columns]"
            ]
          },
          "metadata": {
            "tags": []
          },
          "execution_count": 38
        }
      ]
    },
    {
      "cell_type": "code",
      "metadata": {
        "colab": {
          "base_uri": "https://localhost:8080/",
          "height": 204
        },
        "id": "slR9p47LXw86",
        "outputId": "77fc66b6-99da-41d1-8c12-8890fb66c1ab"
      },
      "source": [
        "data_length = data['len'].value_counts().reset_index()\n",
        "data_length.rename(columns={'index': 'length_word', 'len':'frequency'}, inplace = True)\n",
        "data_length.head()"
      ],
      "execution_count": null,
      "outputs": [
        {
          "output_type": "execute_result",
          "data": {
            "text/html": [
              "<div>\n",
              "<style scoped>\n",
              "    .dataframe tbody tr th:only-of-type {\n",
              "        vertical-align: middle;\n",
              "    }\n",
              "\n",
              "    .dataframe tbody tr th {\n",
              "        vertical-align: top;\n",
              "    }\n",
              "\n",
              "    .dataframe thead th {\n",
              "        text-align: right;\n",
              "    }\n",
              "</style>\n",
              "<table border=\"1\" class=\"dataframe\">\n",
              "  <thead>\n",
              "    <tr style=\"text-align: right;\">\n",
              "      <th></th>\n",
              "      <th>length_word</th>\n",
              "      <th>frequency</th>\n",
              "    </tr>\n",
              "  </thead>\n",
              "  <tbody>\n",
              "    <tr>\n",
              "      <th>0</th>\n",
              "      <td>10</td>\n",
              "      <td>3636</td>\n",
              "    </tr>\n",
              "    <tr>\n",
              "      <th>1</th>\n",
              "      <td>9</td>\n",
              "      <td>3423</td>\n",
              "    </tr>\n",
              "    <tr>\n",
              "      <th>2</th>\n",
              "      <td>11</td>\n",
              "      <td>3395</td>\n",
              "    </tr>\n",
              "    <tr>\n",
              "      <th>3</th>\n",
              "      <td>8</td>\n",
              "      <td>2939</td>\n",
              "    </tr>\n",
              "    <tr>\n",
              "      <th>4</th>\n",
              "      <td>12</td>\n",
              "      <td>2843</td>\n",
              "    </tr>\n",
              "  </tbody>\n",
              "</table>\n",
              "</div>"
            ],
            "text/plain": [
              "   length_word  frequency\n",
              "0           10       3636\n",
              "1            9       3423\n",
              "2           11       3395\n",
              "3            8       2939\n",
              "4           12       2843"
            ]
          },
          "metadata": {
            "tags": []
          },
          "execution_count": 39
        }
      ]
    },
    {
      "cell_type": "code",
      "metadata": {
        "colab": {
          "base_uri": "https://localhost:8080/",
          "height": 298
        },
        "id": "WanNu0LmX1K3",
        "outputId": "6bdc2fa2-0c5c-41f9-d8a7-54883e6136ed"
      },
      "source": [
        "import matplotlib.pyplot as plt\n",
        "plt.bar(data_length['length_word'], data_length['frequency'])\n",
        "plt.title(\" Distribution of word length and its frequency\")"
      ],
      "execution_count": null,
      "outputs": [
        {
          "output_type": "execute_result",
          "data": {
            "text/plain": [
              "Text(0.5, 1.0, ' Distribution of word length and its frequency')"
            ]
          },
          "metadata": {
            "tags": []
          },
          "execution_count": 70
        },
        {
          "output_type": "display_data",
          "data": {
            "image/png": "[encoded data removed]",
            "text/plain": [
              "<Figure size 432x288 with 1 Axes>"
            ]
          },
          "metadata": {
            "tags": [],
            "needs_background": "light"
          }
        }
      ]
    },
    {
      "cell_type": "markdown",
      "metadata": {
        "id": "pb2tX5PpX6Kt"
      },
      "source": [
        "Preprocessing"
      ]
    },
    {
      "cell_type": "code",
      "metadata": {
        "colab": {
          "base_uri": "https://localhost:8080/",
          "height": 204
        },
        "id": "QUu4iO9_X3e2",
        "outputId": "0ec12a81-7c3e-4287-c2c7-7f7b464582ce"
      },
      "source": [
        "data = data.drop(['article_link'], axis=1)\n",
        "data.head()"
      ],
      "execution_count": null,
      "outputs": [
        {
          "output_type": "execute_result",
          "data": {
            "text/html": [
              "<div>\n",
              "<style scoped>\n",
              "    .dataframe tbody tr th:only-of-type {\n",
              "        vertical-align: middle;\n",
              "    }\n",
              "\n",
              "    .dataframe tbody tr th {\n",
              "        vertical-align: top;\n",
              "    }\n",
              "\n",
              "    .dataframe thead th {\n",
              "        text-align: right;\n",
              "    }\n",
              "</style>\n",
              "<table border=\"1\" class=\"dataframe\">\n",
              "  <thead>\n",
              "    <tr style=\"text-align: right;\">\n",
              "      <th></th>\n",
              "      <th>is_sarcastic</th>\n",
              "      <th>headline</th>\n",
              "      <th>len</th>\n",
              "    </tr>\n",
              "  </thead>\n",
              "  <tbody>\n",
              "    <tr>\n",
              "      <th>0</th>\n",
              "      <td>1</td>\n",
              "      <td>thirtysomething scientists unveil doomsday clock of hair loss</td>\n",
              "      <td>8</td>\n",
              "    </tr>\n",
              "    <tr>\n",
              "      <th>1</th>\n",
              "      <td>0</td>\n",
              "      <td>dem rep. totally nails why congress is falling short on gender, racial equality</td>\n",
              "      <td>13</td>\n",
              "    </tr>\n",
              "    <tr>\n",
              "      <th>2</th>\n",
              "      <td>0</td>\n",
              "      <td>eat your veggies: 9 deliciously different recipes</td>\n",
              "      <td>7</td>\n",
              "    </tr>\n",
              "    <tr>\n",
              "      <th>3</th>\n",
              "      <td>1</td>\n",
              "      <td>inclement weather prevents liar from getting to work</td>\n",
              "      <td>8</td>\n",
              "    </tr>\n",
              "    <tr>\n",
              "      <th>4</th>\n",
              "      <td>1</td>\n",
              "      <td>mother comes pretty close to using word 'streaming' correctly</td>\n",
              "      <td>9</td>\n",
              "    </tr>\n",
              "  </tbody>\n",
              "</table>\n",
              "</div>"
            ],
            "text/plain": [
              "   is_sarcastic  ... len\n",
              "0             1  ...   8\n",
              "1             0  ...  13\n",
              "2             0  ...   7\n",
              "3             1  ...   8\n",
              "4             1  ...   9\n",
              "\n",
              "[5 rows x 3 columns]"
            ]
          },
          "metadata": {
            "tags": []
          },
          "execution_count": 41
        }
      ]
    },
    {
      "cell_type": "code",
      "metadata": {
        "id": "trke_M8LX-ob"
      },
      "source": [
        "def clean_data(x):\n",
        "  return re.sub('[^A-Za-z ]+', '', x)\n",
        "\n",
        "\n",
        "data['clean_hd'] = data[\"headline\"].apply(clean_data)"
      ],
      "execution_count": null,
      "outputs": []
    },
    {
      "cell_type": "code",
      "metadata": {
        "id": "kDHqkkO8YD64"
      },
      "source": [
        "data.to_csv(\"/content/gdrive/My Drive/SD/clean.csv\")"
      ],
      "execution_count": null,
      "outputs": []
    },
    {
      "cell_type": "code",
      "metadata": {
        "colab": {
          "base_uri": "https://localhost:8080/",
          "height": 204
        },
        "id": "cE5EIh8rYGxb",
        "outputId": "fb85d72a-c2d9-411c-bef1-05cf4a229bcf"
      },
      "source": [
        "data.head()\n"
      ],
      "execution_count": null,
      "outputs": [
        {
          "output_type": "execute_result",
          "data": {
            "text/html": [
              "<div>\n",
              "<style scoped>\n",
              "    .dataframe tbody tr th:only-of-type {\n",
              "        vertical-align: middle;\n",
              "    }\n",
              "\n",
              "    .dataframe tbody tr th {\n",
              "        vertical-align: top;\n",
              "    }\n",
              "\n",
              "    .dataframe thead th {\n",
              "        text-align: right;\n",
              "    }\n",
              "</style>\n",
              "<table border=\"1\" class=\"dataframe\">\n",
              "  <thead>\n",
              "    <tr style=\"text-align: right;\">\n",
              "      <th></th>\n",
              "      <th>is_sarcastic</th>\n",
              "      <th>headline</th>\n",
              "      <th>len</th>\n",
              "      <th>clean_hd</th>\n",
              "    </tr>\n",
              "  </thead>\n",
              "  <tbody>\n",
              "    <tr>\n",
              "      <th>0</th>\n",
              "      <td>1</td>\n",
              "      <td>thirtysomething scientists unveil doomsday clock of hair loss</td>\n",
              "      <td>8</td>\n",
              "      <td>thirtysomething scientists unveil doomsday clock of hair loss</td>\n",
              "    </tr>\n",
              "    <tr>\n",
              "      <th>1</th>\n",
              "      <td>0</td>\n",
              "      <td>dem rep. totally nails why congress is falling short on gender, racial equality</td>\n",
              "      <td>13</td>\n",
              "      <td>dem rep totally nails why congress is falling short on gender racial equality</td>\n",
              "    </tr>\n",
              "    <tr>\n",
              "      <th>2</th>\n",
              "      <td>0</td>\n",
              "      <td>eat your veggies: 9 deliciously different recipes</td>\n",
              "      <td>7</td>\n",
              "      <td>eat your veggies  deliciously different recipes</td>\n",
              "    </tr>\n",
              "    <tr>\n",
              "      <th>3</th>\n",
              "      <td>1</td>\n",
              "      <td>inclement weather prevents liar from getting to work</td>\n",
              "      <td>8</td>\n",
              "      <td>inclement weather prevents liar from getting to work</td>\n",
              "    </tr>\n",
              "    <tr>\n",
              "      <th>4</th>\n",
              "      <td>1</td>\n",
              "      <td>mother comes pretty close to using word 'streaming' correctly</td>\n",
              "      <td>9</td>\n",
              "      <td>mother comes pretty close to using word streaming correctly</td>\n",
              "    </tr>\n",
              "  </tbody>\n",
              "</table>\n",
              "</div>"
            ],
            "text/plain": [
              "   is_sarcastic  ...                                                                       clean_hd\n",
              "0             1  ...                  thirtysomething scientists unveil doomsday clock of hair loss\n",
              "1             0  ...  dem rep totally nails why congress is falling short on gender racial equality\n",
              "2             0  ...                                eat your veggies  deliciously different recipes\n",
              "3             1  ...                           inclement weather prevents liar from getting to work\n",
              "4             1  ...                    mother comes pretty close to using word streaming correctly\n",
              "\n",
              "[5 rows x 4 columns]"
            ]
          },
          "metadata": {
            "tags": []
          },
          "execution_count": 45
        }
      ]
    },
    {
      "cell_type": "code",
      "metadata": {
        "colab": {
          "base_uri": "https://localhost:8080/",
          "height": 265
        },
        "id": "eiVTgSgdYMM1",
        "outputId": "66203dd9-9350-457e-be24-dbe9d48fd36f"
      },
      "source": [
        "data['len'].plot(kind='hist')\n",
        "plt.show()"
      ],
      "execution_count": null,
      "outputs": [
        {
          "output_type": "display_data",
          "data": {
            "image/png": "[encoded data removed]",
            "text/plain": [
              "<Figure size 432x288 with 1 Axes>"
            ]
          },
          "metadata": {
            "tags": [],
            "needs_background": "light"
          }
        }
      ]
    },
    {
      "cell_type": "code",
      "metadata": {
        "colab": {
          "base_uri": "https://localhost:8080/",
          "height": 238
        },
        "id": "hdeJqMiTYQMV",
        "outputId": "522c4e82-9bad-4f5e-b011-fca0d4a47b55"
      },
      "source": [
        "# removing those headline whose length is greather than 15\n",
        "print('shape before preprocessing ',data.shape)\n",
        "data = data[data['len'] < 20]\n",
        "print('shape after preprocessing ',data.shape)\n",
        "data.head()"
      ],
      "execution_count": null,
      "outputs": [
        {
          "output_type": "stream",
          "text": [
            "shape before preprocessing  (28619, 4)\n",
            "shape after preprocessing  (28455, 4)\n"
          ],
          "name": "stdout"
        },
        {
          "output_type": "execute_result",
          "data": {
            "text/html": [
              "<div>\n",
              "<style scoped>\n",
              "    .dataframe tbody tr th:only-of-type {\n",
              "        vertical-align: middle;\n",
              "    }\n",
              "\n",
              "    .dataframe tbody tr th {\n",
              "        vertical-align: top;\n",
              "    }\n",
              "\n",
              "    .dataframe thead th {\n",
              "        text-align: right;\n",
              "    }\n",
              "</style>\n",
              "<table border=\"1\" class=\"dataframe\">\n",
              "  <thead>\n",
              "    <tr style=\"text-align: right;\">\n",
              "      <th></th>\n",
              "      <th>is_sarcastic</th>\n",
              "      <th>headline</th>\n",
              "      <th>len</th>\n",
              "      <th>clean_hd</th>\n",
              "    </tr>\n",
              "  </thead>\n",
              "  <tbody>\n",
              "    <tr>\n",
              "      <th>0</th>\n",
              "      <td>1</td>\n",
              "      <td>thirtysomething scientists unveil doomsday clock of hair loss</td>\n",
              "      <td>8</td>\n",
              "      <td>thirtysomething scientists unveil doomsday clock of hair loss</td>\n",
              "    </tr>\n",
              "    <tr>\n",
              "      <th>1</th>\n",
              "      <td>0</td>\n",
              "      <td>dem rep. totally nails why congress is falling short on gender, racial equality</td>\n",
              "      <td>13</td>\n",
              "      <td>dem rep totally nails why congress is falling short on gender racial equality</td>\n",
              "    </tr>\n",
              "    <tr>\n",
              "      <th>2</th>\n",
              "      <td>0</td>\n",
              "      <td>eat your veggies: 9 deliciously different recipes</td>\n",
              "      <td>7</td>\n",
              "      <td>eat your veggies  deliciously different recipes</td>\n",
              "    </tr>\n",
              "    <tr>\n",
              "      <th>3</th>\n",
              "      <td>1</td>\n",
              "      <td>inclement weather prevents liar from getting to work</td>\n",
              "      <td>8</td>\n",
              "      <td>inclement weather prevents liar from getting to work</td>\n",
              "    </tr>\n",
              "    <tr>\n",
              "      <th>4</th>\n",
              "      <td>1</td>\n",
              "      <td>mother comes pretty close to using word 'streaming' correctly</td>\n",
              "      <td>9</td>\n",
              "      <td>mother comes pretty close to using word streaming correctly</td>\n",
              "    </tr>\n",
              "  </tbody>\n",
              "</table>\n",
              "</div>"
            ],
            "text/plain": [
              "   is_sarcastic  ...                                                                       clean_hd\n",
              "0             1  ...                  thirtysomething scientists unveil doomsday clock of hair loss\n",
              "1             0  ...  dem rep totally nails why congress is falling short on gender racial equality\n",
              "2             0  ...                                eat your veggies  deliciously different recipes\n",
              "3             1  ...                           inclement weather prevents liar from getting to work\n",
              "4             1  ...                    mother comes pretty close to using word streaming correctly\n",
              "\n",
              "[5 rows x 4 columns]"
            ]
          },
          "metadata": {
            "tags": []
          },
          "execution_count": 47
        }
      ]
    },
    {
      "cell_type": "code",
      "metadata": {
        "id": "CwrNg53XYTBj"
      },
      "source": [
        "# Tokenization"
      ],
      "execution_count": null,
      "outputs": []
    },
    {
      "cell_type": "code",
      "metadata": {
        "id": "SH94xm9BYaR8"
      },
      "source": [
        "def tokenize_data(x):\n",
        "  return x.split(\" \")\n"
      ],
      "execution_count": null,
      "outputs": []
    },
    {
      "cell_type": "code",
      "metadata": {
        "colab": {
          "base_uri": "https://localhost:8080/",
          "height": 357
        },
        "id": "l6Zxo46iYapO",
        "outputId": "8abae566-5d74-4018-f3c2-e49aa0c71c48"
      },
      "source": [
        "data[\"tokens\"] = data[\"clean_hd\"].apply(tokenize_data)\n",
        "data.head()"
      ],
      "execution_count": null,
      "outputs": [
        {
          "output_type": "stream",
          "text": [
            "/usr/local/lib/python3.6/dist-packages/ipykernel_launcher.py:1: SettingWithCopyWarning: \n",
            "A value is trying to be set on a copy of a slice from a DataFrame.\n",
            "Try using .loc[row_indexer,col_indexer] = value instead\n",
            "\n",
            "See the caveats in the documentation: https://pandas.pydata.org/pandas-docs/stable/user_guide/indexing.html#returning-a-view-versus-a-copy\n",
            "  \"\"\"Entry point for launching an IPython kernel.\n"
          ],
          "name": "stderr"
        },
        {
          "output_type": "execute_result",
          "data": {
            "text/html": [
              "<div>\n",
              "<style scoped>\n",
              "    .dataframe tbody tr th:only-of-type {\n",
              "        vertical-align: middle;\n",
              "    }\n",
              "\n",
              "    .dataframe tbody tr th {\n",
              "        vertical-align: top;\n",
              "    }\n",
              "\n",
              "    .dataframe thead th {\n",
              "        text-align: right;\n",
              "    }\n",
              "</style>\n",
              "<table border=\"1\" class=\"dataframe\">\n",
              "  <thead>\n",
              "    <tr style=\"text-align: right;\">\n",
              "      <th></th>\n",
              "      <th>is_sarcastic</th>\n",
              "      <th>headline</th>\n",
              "      <th>len</th>\n",
              "      <th>clean_hd</th>\n",
              "      <th>tokens</th>\n",
              "    </tr>\n",
              "  </thead>\n",
              "  <tbody>\n",
              "    <tr>\n",
              "      <th>0</th>\n",
              "      <td>1</td>\n",
              "      <td>thirtysomething scientists unveil doomsday clock of hair loss</td>\n",
              "      <td>8</td>\n",
              "      <td>thirtysomething scientists unveil doomsday clock of hair loss</td>\n",
              "      <td>[thirtysomething, scientists, unveil, doomsday, clock, of, hair, loss]</td>\n",
              "    </tr>\n",
              "    <tr>\n",
              "      <th>1</th>\n",
              "      <td>0</td>\n",
              "      <td>dem rep. totally nails why congress is falling short on gender, racial equality</td>\n",
              "      <td>13</td>\n",
              "      <td>dem rep totally nails why congress is falling short on gender racial equality</td>\n",
              "      <td>[dem, rep, totally, nails, why, congress, is, falling, short, on, gender, racial, equality]</td>\n",
              "    </tr>\n",
              "    <tr>\n",
              "      <th>2</th>\n",
              "      <td>0</td>\n",
              "      <td>eat your veggies: 9 deliciously different recipes</td>\n",
              "      <td>7</td>\n",
              "      <td>eat your veggies  deliciously different recipes</td>\n",
              "      <td>[eat, your, veggies, , deliciously, different, recipes]</td>\n",
              "    </tr>\n",
              "    <tr>\n",
              "      <th>3</th>\n",
              "      <td>1</td>\n",
              "      <td>inclement weather prevents liar from getting to work</td>\n",
              "      <td>8</td>\n",
              "      <td>inclement weather prevents liar from getting to work</td>\n",
              "      <td>[inclement, weather, prevents, liar, from, getting, to, work]</td>\n",
              "    </tr>\n",
              "    <tr>\n",
              "      <th>4</th>\n",
              "      <td>1</td>\n",
              "      <td>mother comes pretty close to using word 'streaming' correctly</td>\n",
              "      <td>9</td>\n",
              "      <td>mother comes pretty close to using word streaming correctly</td>\n",
              "      <td>[mother, comes, pretty, close, to, using, word, streaming, correctly]</td>\n",
              "    </tr>\n",
              "  </tbody>\n",
              "</table>\n",
              "</div>"
            ],
            "text/plain": [
              "   is_sarcastic  ...                                                                                       tokens\n",
              "0             1  ...                       [thirtysomething, scientists, unveil, doomsday, clock, of, hair, loss]\n",
              "1             0  ...  [dem, rep, totally, nails, why, congress, is, falling, short, on, gender, racial, equality]\n",
              "2             0  ...                                      [eat, your, veggies, , deliciously, different, recipes]\n",
              "3             1  ...                                [inclement, weather, prevents, liar, from, getting, to, work]\n",
              "4             1  ...                        [mother, comes, pretty, close, to, using, word, streaming, correctly]\n",
              "\n",
              "[5 rows x 5 columns]"
            ]
          },
          "metadata": {
            "tags": []
          },
          "execution_count": 50
        }
      ]
    },
    {
      "cell_type": "code",
      "metadata": {
        "id": "Wx-lu44ZYc7E"
      },
      "source": [
        "#POS Tagging\n",
        "def calc_pos(x):\n",
        "  tokens = x.split(\" \")\n",
        "  try:\n",
        "    tagged_sent = nltk.pos_tag(tokens)\n",
        "  except:\n",
        "    tagged_sent = [\"Can not Pos\"]\n",
        "  \n",
        "  return tagged_sent"
      ],
      "execution_count": null,
      "outputs": []
    },
    {
      "cell_type": "code",
      "metadata": {
        "id": "qJ-rvflpYhBF"
      },
      "source": [
        "data_sar = data[data[\"is_sarcastic\"] == 1]\n",
        "data_non_sar = data[data[\"is_sarcastic\"]==0]"
      ],
      "execution_count": null,
      "outputs": []
    },
    {
      "cell_type": "code",
      "metadata": {
        "colab": {
          "base_uri": "https://localhost:8080/"
        },
        "id": "WNYbPYNRYjmd",
        "outputId": "1335800b-871e-41c9-c84b-ff04393fbe80"
      },
      "source": [
        "data_sar[\"pos\"] = data_sar[\"clean_hd\"].apply(calc_pos)\n",
        "data_non_sar[\"pos\"] = data_non_sar[\"clean_hd\"].apply(calc_pos)"
      ],
      "execution_count": null,
      "outputs": [
        {
          "output_type": "stream",
          "text": [
            "/usr/local/lib/python3.6/dist-packages/ipykernel_launcher.py:1: SettingWithCopyWarning: \n",
            "A value is trying to be set on a copy of a slice from a DataFrame.\n",
            "Try using .loc[row_indexer,col_indexer] = value instead\n",
            "\n",
            "See the caveats in the documentation: https://pandas.pydata.org/pandas-docs/stable/user_guide/indexing.html#returning-a-view-versus-a-copy\n",
            "  \"\"\"Entry point for launching an IPython kernel.\n",
            "/usr/local/lib/python3.6/dist-packages/ipykernel_launcher.py:2: SettingWithCopyWarning: \n",
            "A value is trying to be set on a copy of a slice from a DataFrame.\n",
            "Try using .loc[row_indexer,col_indexer] = value instead\n",
            "\n",
            "See the caveats in the documentation: https://pandas.pydata.org/pandas-docs/stable/user_guide/indexing.html#returning-a-view-versus-a-copy\n",
            "  \n"
          ],
          "name": "stderr"
        }
      ]
    },
    {
      "cell_type": "code",
      "metadata": {
        "id": "bALq1ZZOYmnx"
      },
      "source": [
        "sarc_count ={}\n",
        "non_sarc_count = {}\n",
        "def pos_dict(x):\n",
        "    try:\n",
        "      pos_dict = dict(x)\n",
        "    except:\n",
        "      pos_dict = {}\n",
        "    for k,v in pos_dict.items():\n",
        "      if v in sarc_count:\n",
        "        sarc_count[v]+=1\n",
        "      else:\n",
        "        sarc_count[v] = 1\n",
        "    \n",
        "    return pos_dict\n",
        "   \n",
        "def pos_dict_no_sarc(x):\n",
        "    try:\n",
        "      pos_dict = dict(x)\n",
        "    except:\n",
        "      pos_dict = {}\n",
        "    for k,v in pos_dict.items():\n",
        "      if v in non_sarc_count:\n",
        "        non_sarc_count[v]+=1\n",
        "      else:\n",
        "        non_sarc_count[v] = 1\n",
        "    \n",
        "    return pos_dict\n",
        "    \n",
        "    \n",
        "d1 = data_sar[\"pos\"].apply(pos_dict)\n",
        "d2 = data_non_sar[\"pos\"].apply(pos_dict_no_sarc)"
      ],
      "execution_count": null,
      "outputs": []
    },
    {
      "cell_type": "code",
      "metadata": {
        "colab": {
          "base_uri": "https://localhost:8080/",
          "height": 607
        },
        "id": "i0--kko0YuN9",
        "outputId": "92920924-8dff-495d-d4d9-0733aca08424"
      },
      "source": [
        "import matplotlib.pyplot as plt\n",
        "\n",
        "fig = plt.figure(figsize=(20,10))\n",
        "plt.bar(range(len(sarc_count)), list(sarc_count.values()), align='center')\n",
        "plt.xticks(range(len(sarc_count)), list(sarc_count.keys()))\n",
        "\n",
        "# plt.bar(*zip(*sarc_count.items()), align = 'center')\n",
        "plt.title(\" Parts Of Speech  Sarcastic\")\n",
        "plt.show()"
      ],
      "execution_count": null,
      "outputs": [
        {
          "output_type": "display_data",
          "data": {
            "image/png": "[encoded data removed]",
            "text/plain": [
              "<Figure size 1440x720 with 1 Axes>"
            ]
          },
          "metadata": {
            "tags": [],
            "needs_background": "light"
          }
        }
      ]
    },
    {
      "cell_type": "code",
      "metadata": {
        "colab": {
          "base_uri": "https://localhost:8080/",
          "height": 607
        },
        "id": "L2EOGg1jY0uH",
        "outputId": "e0f9ffaa-308a-48ac-f281-0264877c9a01"
      },
      "source": [
        "fig = plt.figure(figsize=(20,10))\n",
        "plt.bar(*zip(*non_sarc_count.items()), align = 'center')\n",
        "plt.title(\" Parts Of Speech Non Sarcastic\")\n",
        "plt.show()"
      ],
      "execution_count": null,
      "outputs": [
        {
          "output_type": "display_data",
          "data": {
            "image/png": "[encoded data removed]",
            "text/plain": [
              "<Figure size 1440x720 with 1 Axes>"
            ]
          },
          "metadata": {
            "tags": [],
            "needs_background": "light"
          }
        }
      ]
    },
    {
      "cell_type": "code",
      "metadata": {
        "id": "7T-Prq6bY3AP"
      },
      "source": [
        "# Lemmetization\n",
        "lemm = WordNetLemmatizer()\n",
        "\n",
        "\n",
        "def lemmat(x):\n",
        "  try:\n",
        "    x = x.split(\" \")\n",
        "    temp = []\n",
        "    for i in x:\n",
        "      temp.append(lemm.lemmatize(i))\n",
        "    return temp\n",
        "  except:\n",
        "    return [\"could not perform op\"]"
      ],
      "execution_count": null,
      "outputs": []
    },
    {
      "cell_type": "code",
      "metadata": {
        "colab": {
          "base_uri": "https://localhost:8080/"
        },
        "id": "vYWI3-_cY92E",
        "outputId": "bccc6513-d5a6-42c8-b57c-bfd46f1f64e8"
      },
      "source": [
        "data_sar[\"lemmatizer\"] = data_sar[\"clean_hd\"].apply(lemmat)"
      ],
      "execution_count": null,
      "outputs": [
        {
          "output_type": "stream",
          "text": [
            "/usr/local/lib/python3.6/dist-packages/ipykernel_launcher.py:1: SettingWithCopyWarning: \n",
            "A value is trying to be set on a copy of a slice from a DataFrame.\n",
            "Try using .loc[row_indexer,col_indexer] = value instead\n",
            "\n",
            "See the caveats in the documentation: https://pandas.pydata.org/pandas-docs/stable/user_guide/indexing.html#returning-a-view-versus-a-copy\n",
            "  \"\"\"Entry point for launching an IPython kernel.\n"
          ],
          "name": "stderr"
        }
      ]
    },
    {
      "cell_type": "code",
      "metadata": {
        "colab": {
          "base_uri": "https://localhost:8080/",
          "height": 408
        },
        "id": "dtiWutvpZAGC",
        "outputId": "edd3cefd-f62c-43fb-91d5-f46afc6cad25"
      },
      "source": [
        "data_sar.head()\n"
      ],
      "execution_count": null,
      "outputs": [
        {
          "output_type": "execute_result",
          "data": {
            "text/html": [
              "<div>\n",
              "<style scoped>\n",
              "    .dataframe tbody tr th:only-of-type {\n",
              "        vertical-align: middle;\n",
              "    }\n",
              "\n",
              "    .dataframe tbody tr th {\n",
              "        vertical-align: top;\n",
              "    }\n",
              "\n",
              "    .dataframe thead th {\n",
              "        text-align: right;\n",
              "    }\n",
              "</style>\n",
              "<table border=\"1\" class=\"dataframe\">\n",
              "  <thead>\n",
              "    <tr style=\"text-align: right;\">\n",
              "      <th></th>\n",
              "      <th>is_sarcastic</th>\n",
              "      <th>headline</th>\n",
              "      <th>len</th>\n",
              "      <th>clean_hd</th>\n",
              "      <th>tokens</th>\n",
              "      <th>pos</th>\n",
              "      <th>lemmatizer</th>\n",
              "    </tr>\n",
              "  </thead>\n",
              "  <tbody>\n",
              "    <tr>\n",
              "      <th>0</th>\n",
              "      <td>1</td>\n",
              "      <td>thirtysomething scientists unveil doomsday clock of hair loss</td>\n",
              "      <td>8</td>\n",
              "      <td>thirtysomething scientists unveil doomsday clock of hair loss</td>\n",
              "      <td>[thirtysomething, scientists, unveil, doomsday, clock, of, hair, loss]</td>\n",
              "      <td>[(thirtysomething, VBG), (scientists, NNS), (unveil, JJ), (doomsday, JJ), (clock, NN), (of, IN), (hair, NN), (loss, NN)]</td>\n",
              "      <td>[thirtysomething, scientist, unveil, doomsday, clock, of, hair, loss]</td>\n",
              "    </tr>\n",
              "    <tr>\n",
              "      <th>3</th>\n",
              "      <td>1</td>\n",
              "      <td>inclement weather prevents liar from getting to work</td>\n",
              "      <td>8</td>\n",
              "      <td>inclement weather prevents liar from getting to work</td>\n",
              "      <td>[inclement, weather, prevents, liar, from, getting, to, work]</td>\n",
              "      <td>[(inclement, NN), (weather, NN), (prevents, NNS), (liar, VBP), (from, IN), (getting, VBG), (to, TO), (work, VB)]</td>\n",
              "      <td>[inclement, weather, prevents, liar, from, getting, to, work]</td>\n",
              "    </tr>\n",
              "    <tr>\n",
              "      <th>4</th>\n",
              "      <td>1</td>\n",
              "      <td>mother comes pretty close to using word 'streaming' correctly</td>\n",
              "      <td>9</td>\n",
              "      <td>mother comes pretty close to using word streaming correctly</td>\n",
              "      <td>[mother, comes, pretty, close, to, using, word, streaming, correctly]</td>\n",
              "      <td>[(mother, NN), (comes, VBZ), (pretty, RB), (close, JJ), (to, TO), (using, VBG), (word, NN), (streaming, VBG), (correctly, RB)]</td>\n",
              "      <td>[mother, come, pretty, close, to, using, word, streaming, correctly]</td>\n",
              "    </tr>\n",
              "    <tr>\n",
              "      <th>7</th>\n",
              "      <td>1</td>\n",
              "      <td>richard branson's global-warming donation nearly as much as cost of failed balloon trips</td>\n",
              "      <td>13</td>\n",
              "      <td>richard bransons globalwarming donation nearly as much as cost of failed balloon trips</td>\n",
              "      <td>[richard, bransons, globalwarming, donation, nearly, as, much, as, cost, of, failed, balloon, trips]</td>\n",
              "      <td>[(richard, NN), (bransons, NNS), (globalwarming, VBG), (donation, NN), (nearly, RB), (as, RB), (much, JJ), (as, IN), (cost, NN), (of, IN), (failed, JJ), (balloon, NN), (trips, NNS)]</td>\n",
              "      <td>[richard, bransons, globalwarming, donation, nearly, a, much, a, cost, of, failed, balloon, trip]</td>\n",
              "    </tr>\n",
              "    <tr>\n",
              "      <th>8</th>\n",
              "      <td>1</td>\n",
              "      <td>shadow government getting too large to meet in marriott conference room b</td>\n",
              "      <td>12</td>\n",
              "      <td>shadow government getting too large to meet in marriott conference room b</td>\n",
              "      <td>[shadow, government, getting, too, large, to, meet, in, marriott, conference, room, b]</td>\n",
              "      <td>[(shadow, JJ), (government, NN), (getting, VBG), (too, RB), (large, JJ), (to, TO), (meet, VB), (in, IN), (marriott, NN), (conference, NN), (room, NN), (b, NN)]</td>\n",
              "      <td>[shadow, government, getting, too, large, to, meet, in, marriott, conference, room, b]</td>\n",
              "    </tr>\n",
              "  </tbody>\n",
              "</table>\n",
              "</div>"
            ],
            "text/plain": [
              "   is_sarcastic  ...                                                                                         lemmatizer\n",
              "0             1  ...                              [thirtysomething, scientist, unveil, doomsday, clock, of, hair, loss]\n",
              "3             1  ...                                      [inclement, weather, prevents, liar, from, getting, to, work]\n",
              "4             1  ...                               [mother, come, pretty, close, to, using, word, streaming, correctly]\n",
              "7             1  ...  [richard, bransons, globalwarming, donation, nearly, a, much, a, cost, of, failed, balloon, trip]\n",
              "8             1  ...             [shadow, government, getting, too, large, to, meet, in, marriott, conference, room, b]\n",
              "\n",
              "[5 rows x 7 columns]"
            ]
          },
          "metadata": {
            "tags": []
          },
          "execution_count": 59
        }
      ]
    },
    {
      "cell_type": "code",
      "metadata": {
        "colab": {
          "base_uri": "https://localhost:8080/"
        },
        "id": "GqET70Y8ZCAo",
        "outputId": "5757ef59-fb05-47a6-8384-56417e59123a"
      },
      "source": [
        "# stopword removal\n",
        "\n",
        "data['headline_new'] = data['headline'].apply(lambda x: re.sub('[^a-zA-Z]','  ',x))\n"
      ],
      "execution_count": null,
      "outputs": [
        {
          "output_type": "stream",
          "text": [
            "/usr/local/lib/python3.6/dist-packages/ipykernel_launcher.py:3: SettingWithCopyWarning: \n",
            "A value is trying to be set on a copy of a slice from a DataFrame.\n",
            "Try using .loc[row_indexer,col_indexer] = value instead\n",
            "\n",
            "See the caveats in the documentation: https://pandas.pydata.org/pandas-docs/stable/user_guide/indexing.html#returning-a-view-versus-a-copy\n",
            "  This is separate from the ipykernel package so we can avoid doing imports until\n"
          ],
          "name": "stderr"
        }
      ]
    },
    {
      "cell_type": "code",
      "metadata": {
        "id": "6ApoAqa6ZG6x"
      },
      "source": [
        "noise_list = nltk.corpus.stopwords.words('english')\n"
      ],
      "execution_count": null,
      "outputs": []
    },
    {
      "cell_type": "code",
      "metadata": {
        "colab": {
          "base_uri": "https://localhost:8080/"
        },
        "id": "E_esIGKYZJWW",
        "outputId": "3a380330-e494-4346-e357-a5814329d287"
      },
      "source": [
        "data['headline_new'] = data['headline_new'].apply(lambda x: [i for i in x.split() if i not in noise_list])\n"
      ],
      "execution_count": null,
      "outputs": [
        {
          "output_type": "stream",
          "text": [
            "/usr/local/lib/python3.6/dist-packages/ipykernel_launcher.py:1: SettingWithCopyWarning: \n",
            "A value is trying to be set on a copy of a slice from a DataFrame.\n",
            "Try using .loc[row_indexer,col_indexer] = value instead\n",
            "\n",
            "See the caveats in the documentation: https://pandas.pydata.org/pandas-docs/stable/user_guide/indexing.html#returning-a-view-versus-a-copy\n",
            "  \"\"\"Entry point for launching an IPython kernel.\n"
          ],
          "name": "stderr"
        }
      ]
    },
    {
      "cell_type": "code",
      "metadata": {
        "id": "wQf3h0jMZKw9"
      },
      "source": [
        "from nltk.stem.wordnet import WordNetLemmatizer\n",
        "lem = WordNetLemmatizer()"
      ],
      "execution_count": null,
      "outputs": []
    },
    {
      "cell_type": "code",
      "metadata": {
        "colab": {
          "base_uri": "https://localhost:8080/"
        },
        "id": "vF9FGKLuZNpC",
        "outputId": "fde6c8b2-76f2-4a0a-c977-2b3ff1efcdda"
      },
      "source": [
        "data['headline_new'] = data['headline_new'].apply(lambda x: [lem.lemmatize(i,'v') for i in x])\n"
      ],
      "execution_count": null,
      "outputs": [
        {
          "output_type": "stream",
          "text": [
            "/usr/local/lib/python3.6/dist-packages/ipykernel_launcher.py:1: SettingWithCopyWarning: \n",
            "A value is trying to be set on a copy of a slice from a DataFrame.\n",
            "Try using .loc[row_indexer,col_indexer] = value instead\n",
            "\n",
            "See the caveats in the documentation: https://pandas.pydata.org/pandas-docs/stable/user_guide/indexing.html#returning-a-view-versus-a-copy\n",
            "  \"\"\"Entry point for launching an IPython kernel.\n"
          ],
          "name": "stderr"
        }
      ]
    },
    {
      "cell_type": "code",
      "metadata": {
        "colab": {
          "base_uri": "https://localhost:8080/"
        },
        "id": "R3sK52t8ZPIN",
        "outputId": "164c18bb-0461-40c4-ba84-0beb4ce6ff74"
      },
      "source": [
        "data['headline_new'] = data['headline_new'].apply(lambda x: [i.lower() for i in x])\n"
      ],
      "execution_count": null,
      "outputs": [
        {
          "output_type": "stream",
          "text": [
            "/usr/local/lib/python3.6/dist-packages/ipykernel_launcher.py:1: SettingWithCopyWarning: \n",
            "A value is trying to be set on a copy of a slice from a DataFrame.\n",
            "Try using .loc[row_indexer,col_indexer] = value instead\n",
            "\n",
            "See the caveats in the documentation: https://pandas.pydata.org/pandas-docs/stable/user_guide/indexing.html#returning-a-view-versus-a-copy\n",
            "  \"\"\"Entry point for launching an IPython kernel.\n"
          ],
          "name": "stderr"
        }
      ]
    },
    {
      "cell_type": "code",
      "metadata": {
        "colab": {
          "base_uri": "https://localhost:8080/"
        },
        "id": "W9Vy6VodZQjl",
        "outputId": "c1140298-65de-4dc5-f535-a2d5c5c3e928"
      },
      "source": [
        "def join_lammatize(x):\n",
        "  return \" \".join(x)\n",
        "\n",
        "data[\"lemmat\"] = data[\"headline_new\"].apply(join_lammatize)"
      ],
      "execution_count": null,
      "outputs": [
        {
          "output_type": "stream",
          "text": [
            "/usr/local/lib/python3.6/dist-packages/ipykernel_launcher.py:4: SettingWithCopyWarning: \n",
            "A value is trying to be set on a copy of a slice from a DataFrame.\n",
            "Try using .loc[row_indexer,col_indexer] = value instead\n",
            "\n",
            "See the caveats in the documentation: https://pandas.pydata.org/pandas-docs/stable/user_guide/indexing.html#returning-a-view-versus-a-copy\n",
            "  after removing the cwd from sys.path.\n"
          ],
          "name": "stderr"
        }
      ]
    },
    {
      "cell_type": "code",
      "metadata": {
        "id": "ZBAZx65BZTbW"
      },
      "source": [
        "import nltk\n",
        "from nltk.corpus import stopwords\n",
        "\n",
        "stops = set(stopwords.words('english'))\n",
        "\n",
        "#stopper lambda:\n",
        "\n",
        "def stopper_lambda(x):\n",
        " \n",
        "  words = x.split(\" \")\n",
        "  temp = []\n",
        "  for word in words:\n",
        "    if word not in stops:\n",
        "      temp.append(word)\n",
        "  return \" \".join(temp)"
      ],
      "execution_count": null,
      "outputs": []
    },
    {
      "cell_type": "code",
      "metadata": {
        "colab": {
          "base_uri": "https://localhost:8080/"
        },
        "id": "S8bIQsH6ZVRk",
        "outputId": "d1a45e2d-f6eb-4d51-adbb-896cad6d5b35"
      },
      "source": [
        "data[\"stopped\"] = data[\"clean_hd\"].apply(stopper_lambda)\n"
      ],
      "execution_count": null,
      "outputs": [
        {
          "output_type": "stream",
          "text": [
            "/usr/local/lib/python3.6/dist-packages/ipykernel_launcher.py:1: SettingWithCopyWarning: \n",
            "A value is trying to be set on a copy of a slice from a DataFrame.\n",
            "Try using .loc[row_indexer,col_indexer] = value instead\n",
            "\n",
            "See the caveats in the documentation: https://pandas.pydata.org/pandas-docs/stable/user_guide/indexing.html#returning-a-view-versus-a-copy\n",
            "  \"\"\"Entry point for launching an IPython kernel.\n"
          ],
          "name": "stderr"
        }
      ]
    },
    {
      "cell_type": "code",
      "metadata": {
        "colab": {
          "base_uri": "https://localhost:8080/",
          "height": 357
        },
        "id": "D_TG_Eh_ZW3d",
        "outputId": "4e727a9b-7eb4-4b36-f11f-577e2321e8ab"
      },
      "source": [
        "data.head()\n"
      ],
      "execution_count": null,
      "outputs": [
        {
          "output_type": "execute_result",
          "data": {
            "text/html": [
              "<div>\n",
              "<style scoped>\n",
              "    .dataframe tbody tr th:only-of-type {\n",
              "        vertical-align: middle;\n",
              "    }\n",
              "\n",
              "    .dataframe tbody tr th {\n",
              "        vertical-align: top;\n",
              "    }\n",
              "\n",
              "    .dataframe thead th {\n",
              "        text-align: right;\n",
              "    }\n",
              "</style>\n",
              "<table border=\"1\" class=\"dataframe\">\n",
              "  <thead>\n",
              "    <tr style=\"text-align: right;\">\n",
              "      <th></th>\n",
              "      <th>is_sarcastic</th>\n",
              "      <th>headline</th>\n",
              "      <th>len</th>\n",
              "      <th>clean_hd</th>\n",
              "      <th>tokens</th>\n",
              "      <th>headline_new</th>\n",
              "      <th>lemmat</th>\n",
              "      <th>stopped</th>\n",
              "    </tr>\n",
              "  </thead>\n",
              "  <tbody>\n",
              "    <tr>\n",
              "      <th>0</th>\n",
              "      <td>1</td>\n",
              "      <td>thirtysomething scientists unveil doomsday clock of hair loss</td>\n",
              "      <td>8</td>\n",
              "      <td>thirtysomething scientists unveil doomsday clock of hair loss</td>\n",
              "      <td>[thirtysomething, scientists, unveil, doomsday, clock, of, hair, loss]</td>\n",
              "      <td>[thirtysomething, scientists, unveil, doomsday, clock, hair, loss]</td>\n",
              "      <td>thirtysomething scientists unveil doomsday clock hair loss</td>\n",
              "      <td>thirtysomething scientists unveil doomsday clock hair loss</td>\n",
              "    </tr>\n",
              "    <tr>\n",
              "      <th>1</th>\n",
              "      <td>0</td>\n",
              "      <td>dem rep. totally nails why congress is falling short on gender, racial equality</td>\n",
              "      <td>13</td>\n",
              "      <td>dem rep totally nails why congress is falling short on gender racial equality</td>\n",
              "      <td>[dem, rep, totally, nails, why, congress, is, falling, short, on, gender, racial, equality]</td>\n",
              "      <td>[dem, rep, totally, nail, congress, fall, short, gender, racial, equality]</td>\n",
              "      <td>dem rep totally nail congress fall short gender racial equality</td>\n",
              "      <td>dem rep totally nails congress falling short gender racial equality</td>\n",
              "    </tr>\n",
              "    <tr>\n",
              "      <th>2</th>\n",
              "      <td>0</td>\n",
              "      <td>eat your veggies: 9 deliciously different recipes</td>\n",
              "      <td>7</td>\n",
              "      <td>eat your veggies  deliciously different recipes</td>\n",
              "      <td>[eat, your, veggies, , deliciously, different, recipes]</td>\n",
              "      <td>[eat, veggies, deliciously, different, recipes]</td>\n",
              "      <td>eat veggies deliciously different recipes</td>\n",
              "      <td>eat veggies  deliciously different recipes</td>\n",
              "    </tr>\n",
              "    <tr>\n",
              "      <th>3</th>\n",
              "      <td>1</td>\n",
              "      <td>inclement weather prevents liar from getting to work</td>\n",
              "      <td>8</td>\n",
              "      <td>inclement weather prevents liar from getting to work</td>\n",
              "      <td>[inclement, weather, prevents, liar, from, getting, to, work]</td>\n",
              "      <td>[inclement, weather, prevent, liar, get, work]</td>\n",
              "      <td>inclement weather prevent liar get work</td>\n",
              "      <td>inclement weather prevents liar getting work</td>\n",
              "    </tr>\n",
              "    <tr>\n",
              "      <th>4</th>\n",
              "      <td>1</td>\n",
              "      <td>mother comes pretty close to using word 'streaming' correctly</td>\n",
              "      <td>9</td>\n",
              "      <td>mother comes pretty close to using word streaming correctly</td>\n",
              "      <td>[mother, comes, pretty, close, to, using, word, streaming, correctly]</td>\n",
              "      <td>[mother, come, pretty, close, use, word, stream, correctly]</td>\n",
              "      <td>mother come pretty close use word stream correctly</td>\n",
              "      <td>mother comes pretty close using word streaming correctly</td>\n",
              "    </tr>\n",
              "  </tbody>\n",
              "</table>\n",
              "</div>"
            ],
            "text/plain": [
              "   is_sarcastic  ...                                                              stopped\n",
              "0             1  ...           thirtysomething scientists unveil doomsday clock hair loss\n",
              "1             0  ...  dem rep totally nails congress falling short gender racial equality\n",
              "2             0  ...                           eat veggies  deliciously different recipes\n",
              "3             1  ...                         inclement weather prevents liar getting work\n",
              "4             1  ...             mother comes pretty close using word streaming correctly\n",
              "\n",
              "[5 rows x 8 columns]"
            ]
          },
          "metadata": {
            "tags": []
          },
          "execution_count": 69
        }
      ]
    },
    {
      "cell_type": "code",
      "metadata": {
        "colab": {
          "base_uri": "https://localhost:8080/"
        },
        "id": "hT1WTVSRZYep",
        "outputId": "9e9e5741-dc6b-4675-8e19-69a21a3f8299"
      },
      "source": [
        "# embeddings using GloVE\n",
        "MAX_SEQUENCE_LENGTH = 200\n",
        "MAX_NUM_WORDS = 30000\n",
        "EMBEDDING_DIM = 200 \n",
        "VALIDATION_SPLIT = 0.2 \n",
        "TEST_SPLIT = 0.2 \n",
        "embeddings_index = {}\n",
        "with open(\"/content/gdrive/My Drive/SD/glove.6B.200d.txt\") as f:\n",
        "  for line in f:\n",
        "    values = line.split()\n",
        "    word = values[0]\n",
        "    coefs = np.asarray(values[1:], dtype = 'float32')\n",
        "    embeddings_index[word] = coefs\n",
        "print(\" Found %s words of vectors\" % len(embeddings_index))"
      ],
      "execution_count": null,
      "outputs": [
        {
          "output_type": "stream",
          "text": [
            " Found 400000 words of vectors\n"
          ],
          "name": "stdout"
        }
      ]
    },
    {
      "cell_type": "code",
      "metadata": {
        "colab": {
          "base_uri": "https://localhost:8080/"
        },
        "id": "zld14ObMdJVl",
        "outputId": "24af018b-0ae9-4674-f0ab-94338b3fa6ed"
      },
      "source": [
        "Y = pd.get_dummies(data['is_sarcastic']).values\n",
        "print(Y.shape)\n",
        "\n",
        "X_train, Y_train, X_test, Y_test = train_test_split(data, Y, test_size = 0.2, random_state=42)\n",
        "print(X_train.shape, Y_train.shape)\n",
        "print(X_test.shape, Y_test.shape)"
      ],
      "execution_count": null,
      "outputs": [
        {
          "output_type": "stream",
          "text": [
            "(28455, 2)\n",
            "(22764, 8) (5691, 8)\n",
            "(22764, 2) (5691, 2)\n"
          ],
          "name": "stdout"
        }
      ]
    },
    {
      "cell_type": "code",
      "metadata": {
        "id": "9QokT2eAdT9t"
      },
      "source": [
        "corpus_selection = \"headline\"\n"
      ],
      "execution_count": null,
      "outputs": []
    },
    {
      "cell_type": "code",
      "metadata": {
        "colab": {
          "base_uri": "https://localhost:8080/"
        },
        "id": "_VrW4azUdXiA",
        "outputId": "a6f1d4f6-acc9-4355-a3a8-0167ddfb2387"
      },
      "source": [
        "\n",
        "\n",
        "# texts = data[\"lemmat\"]  # lemmatized data\n",
        "texts = data[corpus_selection] #simple data\n",
        "# texts = data[\"headline\"] #with punctuation\n",
        "#texts = data[\"stopped\"] #without stop words\n",
        "\n",
        "tokenizer = Tokenizer(num_words=MAX_NUM_WORDS)\n",
        "tokenizer.fit_on_texts(texts)\n",
        "sequences = tokenizer.texts_to_sequences(texts)\n",
        "word_index = tokenizer.word_index\n",
        "print('Found %s unique tokens.' % len(word_index))\n",
        "\n",
        "seq = pad_sequences(sequences, maxlen=MAX_SEQUENCE_LENGTH)"
      ],
      "execution_count": null,
      "outputs": [
        {
          "output_type": "stream",
          "text": [
            "Found 30723 unique tokens.\n"
          ],
          "name": "stdout"
        }
      ]
    },
    {
      "cell_type": "code",
      "metadata": {
        "colab": {
          "base_uri": "https://localhost:8080/"
        },
        "id": "ii5T76gZdw34",
        "outputId": "dfbc23c5-24ad-40dc-d384-7704457a6967"
      },
      "source": [
        "seq\n"
      ],
      "execution_count": null,
      "outputs": [
        {
          "output_type": "execute_result",
          "data": {
            "text/plain": [
              "array([[    0,     0,     0, ...,     2,   652,  1095],\n",
              "       [    0,     0,     0, ...,  1567,  2134,  1899],\n",
              "       [    0,     0,     0, ..., 15885,   641,  1467],\n",
              "       ...,\n",
              "       [    0,     0,     0, ...,     6,   866,  1898],\n",
              "       [    0,     0,     0, ...,  2328,   821,  6247],\n",
              "       [    0,     0,     0, ...,     6,   255,   177]], dtype=int32)"
            ]
          },
          "metadata": {
            "tags": []
          },
          "execution_count": 129
        }
      ]
    },
    {
      "cell_type": "code",
      "metadata": {
        "id": "9QQD_ik-d3DU"
      },
      "source": [
        "from sklearn.model_selection  import train_test_split\n",
        "from keras.callbacks import LearningRateScheduler\n",
        "from keras.layers import Input,Dense,Dropout,GlobalMaxPooling1D\n",
        "import keras\n",
        "from keras.models import Model"
      ],
      "execution_count": null,
      "outputs": []
    },
    {
      "cell_type": "code",
      "metadata": {
        "colab": {
          "base_uri": "https://localhost:8080/"
        },
        "id": "JdyOGtxkd6CM",
        "outputId": "12c6757a-13ea-46e1-ec25-efea16c14867"
      },
      "source": [
        "num_words = min(MAX_NUM_WORDS, len(word_index) + 1)\n",
        "embedding_matrix = np.zeros((num_words, EMBEDDING_DIM))\n",
        "for word, i in word_index.items():\n",
        "    if i >= MAX_NUM_WORDS:\n",
        "        continue\n",
        "    embedding_vector = embeddings_index.get(word)\n",
        "    if embedding_vector is not None:\n",
        "        # words not found in embedding index will be all-zeros.\n",
        "        embedding_matrix[i] = embedding_vector\n",
        "        \n",
        "embedding_layer = Embedding(num_words,\n",
        "                            EMBEDDING_DIM,\n",
        "                            weights=[embedding_matrix],\n",
        "                            input_length=MAX_SEQUENCE_LENGTH,\n",
        "                            trainable=False)\n",
        "        \n",
        "\n",
        "print(embedding_matrix.shape)"
      ],
      "execution_count": null,
      "outputs": [
        {
          "output_type": "stream",
          "text": [
            "(30000, 200)\n"
          ],
          "name": "stdout"
        }
      ]
    },
    {
      "cell_type": "code",
      "metadata": {
        "id": "SckGTaCkd76O"
      },
      "source": [
        "#X_train, X_test, y_train, y_test = train_test_split(seq, data[\"is_sarcastic\"], test_size=0.20, random_state=42)\n"
      ],
      "execution_count": null,
      "outputs": []
    },
    {
      "cell_type": "markdown",
      "metadata": {
        "id": "-KVBaPVNeLMf"
      },
      "source": [
        "Naive Bayes\n"
      ]
    },
    {
      "cell_type": "code",
      "metadata": {
        "id": "yW0a6knPeFQu"
      },
      "source": [
        "from sklearn.feature_extraction.text import CountVectorizer\n",
        "from sklearn.naive_bayes import MultinomialNB\n",
        "from sklearn.metrics import roc_auc_score\n",
        "from sklearn.linear_model import LogisticRegression\n",
        "from sklearn.ensemble import RandomForestClassifier\n",
        "from sklearn.svm import LinearSVC\n",
        "from sklearn.model_selection import cross_val_score\n",
        "from sklearn import metrics"
      ],
      "execution_count": null,
      "outputs": []
    },
    {
      "cell_type": "code",
      "metadata": {
        "colab": {
          "base_uri": "https://localhost:8080/"
        },
        "id": "8Cz0OQnieNc2",
        "outputId": "ce6bbc28-dd02-4a96-d7b3-e0765d2c734e"
      },
      "source": [
        "#Split data into train and test sets\n",
        "X_train, X_test, y_train, y_test = train_test_split(data[corpus_selection],data['is_sarcastic'],random_state=33)\n",
        "\n",
        "#Train and evaluate the model\n",
        "vect = CountVectorizer().fit(X_train)\n",
        "#vectorize sentences\n",
        "X_train_vectorized = vect.transform(X_train)\n",
        "\n",
        "#create and fit a multinomial naive bayes\n",
        "clfrNB = MultinomialNB(alpha = 0.5)\n",
        "\n",
        "\n",
        "clfrNB.fit(X_train_vectorized, y_train)\n",
        "\n",
        "\n",
        "preds = clfrNB.predict(vect.transform(X_test))\n",
        "\n",
        "naive_score = clfrNB.score(vect.transform(X_test),y_test)\n",
        "\n",
        "score = roc_auc_score(y_test, preds)\n",
        "print(metrics.classification_report(y_test,preds))\n",
        "print(score)"
      ],
      "execution_count": null,
      "outputs": [
        {
          "output_type": "stream",
          "text": [
            "              precision    recall  f1-score   support\n",
            "\n",
            "           0       0.85      0.86      0.85      3746\n",
            "           1       0.84      0.83      0.84      3368\n",
            "\n",
            "    accuracy                           0.85      7114\n",
            "   macro avg       0.85      0.85      0.85      7114\n",
            "weighted avg       0.85      0.85      0.85      7114\n",
            "\n",
            "0.8450519826056742\n"
          ],
          "name": "stdout"
        }
      ]
    },
    {
      "cell_type": "markdown",
      "metadata": {
        "id": "p4mS-ej6eWaH"
      },
      "source": [
        "Random Forest Classifier"
      ]
    },
    {
      "cell_type": "code",
      "metadata": {
        "id": "ZN4UyRAeeT-2"
      },
      "source": [
        "rfc =  RandomForestClassifier(n_estimators=1000, max_depth=5, random_state=0)\n",
        "rfc.fit(X_train_vectorized,y_train)\n",
        "preds = rfc.predict(vect.transform(X_test))"
      ],
      "execution_count": null,
      "outputs": []
    },
    {
      "cell_type": "code",
      "metadata": {
        "colab": {
          "base_uri": "https://localhost:8080/"
        },
        "id": "LoiqOkGLePsR",
        "outputId": "ba3cf343-3568-43b8-f355-d69a03350b67"
      },
      "source": [
        "print(metrics.classification_report(y_test,preds))\n",
        "random_fo_score = rfc.score(vect.transform(X_test),y_test)"
      ],
      "execution_count": null,
      "outputs": [
        {
          "output_type": "stream",
          "text": [
            "              precision    recall  f1-score   support\n",
            "\n",
            "           0       0.55      1.00      0.71      3746\n",
            "           1       0.99      0.09      0.16      3368\n",
            "\n",
            "    accuracy                           0.57      7114\n",
            "   macro avg       0.77      0.54      0.44      7114\n",
            "weighted avg       0.76      0.57      0.45      7114\n",
            "\n"
          ],
          "name": "stdout"
        }
      ]
    },
    {
      "cell_type": "code",
      "metadata": {
        "colab": {
          "base_uri": "https://localhost:8080/"
        },
        "id": "ps9Aba2Z3os2",
        "outputId": "45e023e4-f553-44c6-fb3a-044581f9c6a7"
      },
      "source": [
        "random_fo_score"
      ],
      "execution_count": null,
      "outputs": [
        {
          "output_type": "execute_result",
          "data": {
            "text/plain": [
              "0.5681754287320776"
            ]
          },
          "metadata": {
            "tags": []
          },
          "execution_count": 137
        }
      ]
    },
    {
      "cell_type": "markdown",
      "metadata": {
        "id": "eZ7iJNYleiBm"
      },
      "source": [
        "SVC"
      ]
    },
    {
      "cell_type": "code",
      "metadata": {
        "id": "_CaztubSedhF"
      },
      "source": [
        "svc_l1 = LinearSVC(dual= False)\n",
        "svc_l2 = LinearSVC(penalty=\"l1\",dual=False)"
      ],
      "execution_count": null,
      "outputs": []
    },
    {
      "cell_type": "code",
      "metadata": {
        "colab": {
          "base_uri": "https://localhost:8080/"
        },
        "id": "7TM8rHCdenQr",
        "outputId": "58e8f960-231f-43b5-c325-083c354f98d0"
      },
      "source": [
        "svc_l1.fit(X_train_vectorized,y_train)\n"
      ],
      "execution_count": null,
      "outputs": [
        {
          "output_type": "execute_result",
          "data": {
            "text/plain": [
              "LinearSVC(C=1.0, class_weight=None, dual=False, fit_intercept=True,\n",
              "          intercept_scaling=1, loss='squared_hinge', max_iter=1000,\n",
              "          multi_class='ovr', penalty='l2', random_state=None, tol=0.0001,\n",
              "          verbose=0)"
            ]
          },
          "metadata": {
            "tags": []
          },
          "execution_count": 139
        }
      ]
    },
    {
      "cell_type": "code",
      "metadata": {
        "colab": {
          "base_uri": "https://localhost:8080/"
        },
        "id": "uBIPh78Kenkd",
        "outputId": "9b828cad-1fbe-41ec-9af7-7bab304bb369"
      },
      "source": [
        "svc_l2.fit(X_train_vectorized,y_train)\n"
      ],
      "execution_count": null,
      "outputs": [
        {
          "output_type": "execute_result",
          "data": {
            "text/plain": [
              "LinearSVC(C=1.0, class_weight=None, dual=False, fit_intercept=True,\n",
              "          intercept_scaling=1, loss='squared_hinge', max_iter=1000,\n",
              "          multi_class='ovr', penalty='l1', random_state=None, tol=0.0001,\n",
              "          verbose=0)"
            ]
          },
          "metadata": {
            "tags": []
          },
          "execution_count": 140
        }
      ]
    },
    {
      "cell_type": "code",
      "metadata": {
        "id": "bIlzTt_2epRf"
      },
      "source": [
        "svc_l1_score = svc_l1.score(vect.transform(X_test),y_test)\n"
      ],
      "execution_count": null,
      "outputs": []
    },
    {
      "cell_type": "code",
      "metadata": {
        "colab": {
          "base_uri": "https://localhost:8080/"
        },
        "id": "8r1o4ovr3yRu",
        "outputId": "2285e20c-ef08-43cf-a859-376066f1af59"
      },
      "source": [
        "svc_l1_score"
      ],
      "execution_count": null,
      "outputs": [
        {
          "output_type": "execute_result",
          "data": {
            "text/plain": [
              "0.8190891200449817"
            ]
          },
          "metadata": {
            "tags": []
          },
          "execution_count": 143
        }
      ]
    },
    {
      "cell_type": "code",
      "metadata": {
        "colab": {
          "base_uri": "https://localhost:8080/"
        },
        "id": "pgbxiQlkerBc",
        "outputId": "d9a5806f-136f-4929-8b42-e264ce7b0a13"
      },
      "source": [
        "svc_l2_score = svc_l2.score(vect.transform(X_test),y_test)\n",
        "svc_l2_score"
      ],
      "execution_count": null,
      "outputs": [
        {
          "output_type": "execute_result",
          "data": {
            "text/plain": [
              "0.8192296879392746"
            ]
          },
          "metadata": {
            "tags": []
          },
          "execution_count": 144
        }
      ]
    },
    {
      "cell_type": "markdown",
      "metadata": {
        "id": "Wo8E3K54euCc"
      },
      "source": [
        "Logistic Regression\n"
      ]
    },
    {
      "cell_type": "code",
      "metadata": {
        "id": "HSry8M2Sesdf"
      },
      "source": [
        "lgr = LogisticRegression(random_state=0)\n"
      ],
      "execution_count": null,
      "outputs": []
    },
    {
      "cell_type": "code",
      "metadata": {
        "colab": {
          "base_uri": "https://localhost:8080/"
        },
        "id": "mwfZsmvwev5y",
        "outputId": "c9a09555-31fe-436e-9149-8efcd3a9e970"
      },
      "source": [
        "lgr.fit(X_train_vectorized,y_train)\n",
        "y_pred = lgr.predict(vect.transform(X_test))\n",
        "\n",
        "\n",
        "logistic_score = lgr.score(vect.transform(X_test),y_test)"
      ],
      "execution_count": null,
      "outputs": [
        {
          "output_type": "stream",
          "text": [
            "/usr/local/lib/python3.6/dist-packages/sklearn/linear_model/_logistic.py:940: ConvergenceWarning: lbfgs failed to converge (status=1):\n",
            "STOP: TOTAL NO. of ITERATIONS REACHED LIMIT.\n",
            "\n",
            "Increase the number of iterations (max_iter) or scale the data as shown in:\n",
            "    https://scikit-learn.org/stable/modules/preprocessing.html\n",
            "Please also refer to the documentation for alternative solver options:\n",
            "    https://scikit-learn.org/stable/modules/linear_model.html#logistic-regression\n",
            "  extra_warning_msg=_LOGISTIC_SOLVER_CONVERGENCE_MSG)\n"
          ],
          "name": "stderr"
        }
      ]
    },
    {
      "cell_type": "code",
      "metadata": {
        "colab": {
          "base_uri": "https://localhost:8080/"
        },
        "id": "AeVpzOIPeyFn",
        "outputId": "e8ff02ba-d323-4ee8-f6e2-53864447485e"
      },
      "source": [
        "print(metrics.classification_report(y_test, y_pred))"
      ],
      "execution_count": null,
      "outputs": [
        {
          "output_type": "stream",
          "text": [
            "              precision    recall  f1-score   support\n",
            "\n",
            "           0       0.85      0.86      0.85      3746\n",
            "           1       0.84      0.83      0.83      3368\n",
            "\n",
            "    accuracy                           0.84      7114\n",
            "   macro avg       0.84      0.84      0.84      7114\n",
            "weighted avg       0.84      0.84      0.84      7114\n",
            "\n"
          ],
          "name": "stdout"
        }
      ]
    },
    {
      "cell_type": "code",
      "metadata": {
        "id": "ixi4zEuDglGM"
      },
      "source": [
        "X_train, X_test, y_train, y_test = train_test_split(seq, data[\"is_sarcastic\"], test_size=0.20, random_state=42)\n"
      ],
      "execution_count": null,
      "outputs": []
    },
    {
      "cell_type": "code",
      "metadata": {
        "id": "0pSp9GPTglYH"
      },
      "source": [
        "from keras.callbacks import Callback\n",
        "\n",
        "class PlotLearning(Callback):\n",
        "    def on_train_begin(self, logs={}):\n",
        "        self.i = 0\n",
        "        self.x = []\n",
        "        self.losses = []\n",
        "        self.val_losses = []\n",
        "        self.acc = []\n",
        "        self.val_acc = []\n",
        "        self.fig = plt.figure()\n",
        "        \n",
        "        self.logs = []\n",
        "\n",
        "    def on_epoch_end(self, epoch, logs={}):\n",
        "        \n",
        "        self.logs.append(logs)\n",
        "        self.x.append(self.i)\n",
        "        self.losses.append(logs.get('loss'))\n",
        "        self.val_losses.append(logs.get('val_loss'))\n",
        "        self.acc.append(logs.get('acc'))\n",
        "        self.val_acc.append(logs.get('val_acc'))\n",
        "        self.i += 1\n",
        "        f, (ax1, ax2) = plt.subplots(1, 2, sharex=True)\n",
        "        \n",
        "        ax1.set_yscale('log')\n",
        "        ax1.plot(self.x, self.losses, label=\"loss\")\n",
        "        ax1.plot(self.x, self.val_losses, label=\"val_loss\")\n",
        "        ax1.legend()\n",
        "        \n",
        "        ax2.plot(self.x, self.acc, label=\"accuracy\")\n",
        "        ax2.plot(self.x, self.val_acc, label=\"validation accuracy\")\n",
        "        ax2.legend()\n",
        "        \n",
        "        plt.show();\n",
        "        \n",
        "plot = PlotLearning"
      ],
      "execution_count": null,
      "outputs": []
    },
    {
      "cell_type": "code",
      "metadata": {
        "id": "vC8r83vCgld4"
      },
      "source": [
        "def step_decay(epoch):\n",
        "    initial_lrate = 0.05\n",
        "    drop = 0.5\n",
        "    epochs_drop = 10.0\n",
        "    lrate = initial_lrate * math.pow(drop, math.floor((1+epoch)/epochs_drop))\n",
        "    return 0.0005**epoch\n",
        "\n",
        "# prepare embedding matrix\n",
        "num_words = min(MAX_NUM_WORDS, len(word_index) + 1)\n",
        "embedding_matrix = np.zeros((num_words, EMBEDDING_DIM))\n",
        "for word, i in word_index.items():\n",
        "    if i >= MAX_NUM_WORDS:\n",
        "        continue\n",
        "    embedding_vector = embeddings_index.get(word)\n",
        "    if embedding_vector is not None:\n",
        "        # words not found in embedding index will be all-zeros.\n",
        "        embedding_matrix[i] = embedding_vector\n",
        "\n",
        "\n",
        "lr = LearningRateScheduler(step_decay, verbose=1)\n",
        "\n",
        "\n",
        "embedding_layer = Embedding(num_words,\n",
        "                            EMBEDDING_DIM,\n",
        "                            weights=[embedding_matrix],\n",
        "                            input_length=MAX_SEQUENCE_LENGTH,\n",
        "                            trainable=False)"
      ],
      "execution_count": null,
      "outputs": []
    },
    {
      "cell_type": "code",
      "metadata": {
        "id": "acva7mTBglgo"
      },
      "source": [
        "sequence_input = Input(shape=(MAX_SEQUENCE_LENGTH,), dtype='int32')\n",
        "embedded_sequences = embedding_layer(sequence_input)\n",
        "\n",
        "embedded_sequences = keras.layers.SpatialDropout1D(0.3)(embedded_sequences)\n",
        "x = LSTM(200,return_sequences=False)(embedded_sequences)\n",
        "x = Dense(512,activation=\"relu\")(x)\n",
        "x = Dropout(0.2)(x)\n",
        "x = Dense(256,activation=\"relu\")(x)\n",
        "x = Dropout(0.2)(x)\n",
        "x = Dense(128,activation=\"relu\")(x)\n",
        "x = Dropout(0.2)(x)\n",
        "x = Dense(64,activation=\"relu\")(x)\n",
        "x = Dropout(0.2)(x)\n",
        "x = Dense(32,activation=\"relu\")(x)\n",
        "x = Dropout(0.2)(x)\n",
        "preds = Dense(1, activation='sigmoid')(x)\n",
        "\n",
        "model = Model(sequence_input, preds)\n",
        "model.compile(loss='binary_crossentropy',\n",
        "              optimizer='adam',\n",
        "              metrics=['acc'])"
      ],
      "execution_count": null,
      "outputs": []
    },
    {
      "cell_type": "code",
      "metadata": {
        "colab": {
          "base_uri": "https://localhost:8080/"
        },
        "id": "gifBm_ApgljQ",
        "outputId": "cffaad91-da8b-47d2-a0ef-6097574ee9ed"
      },
      "source": [
        "model.summary()\n"
      ],
      "execution_count": null,
      "outputs": [
        {
          "output_type": "stream",
          "text": [
            "Model: \"functional_5\"\n",
            "_________________________________________________________________\n",
            "Layer (type)                 Output Shape              Param #   \n",
            "=================================================================\n",
            "input_3 (InputLayer)         [(None, 200)]             0         \n",
            "_________________________________________________________________\n",
            "embedding_2 (Embedding)      (None, 200, 200)          6000000   \n",
            "_________________________________________________________________\n",
            "spatial_dropout1d_2 (Spatial (None, 200, 200)          0         \n",
            "_________________________________________________________________\n",
            "lstm_2 (LSTM)                (None, 200)               320800    \n",
            "_________________________________________________________________\n",
            "dense_12 (Dense)             (None, 512)               102912    \n",
            "_________________________________________________________________\n",
            "dropout_10 (Dropout)         (None, 512)               0         \n",
            "_________________________________________________________________\n",
            "dense_13 (Dense)             (None, 256)               131328    \n",
            "_________________________________________________________________\n",
            "dropout_11 (Dropout)         (None, 256)               0         \n",
            "_________________________________________________________________\n",
            "dense_14 (Dense)             (None, 128)               32896     \n",
            "_________________________________________________________________\n",
            "dropout_12 (Dropout)         (None, 128)               0         \n",
            "_________________________________________________________________\n",
            "dense_15 (Dense)             (None, 64)                8256      \n",
            "_________________________________________________________________\n",
            "dropout_13 (Dropout)         (None, 64)                0         \n",
            "_________________________________________________________________\n",
            "dense_16 (Dense)             (None, 32)                2080      \n",
            "_________________________________________________________________\n",
            "dropout_14 (Dropout)         (None, 32)                0         \n",
            "_________________________________________________________________\n",
            "dense_17 (Dense)             (None, 1)                 33        \n",
            "=================================================================\n",
            "Total params: 6,598,305\n",
            "Trainable params: 598,305\n",
            "Non-trainable params: 6,000,000\n",
            "_________________________________________________________________\n"
          ],
          "name": "stdout"
        }
      ]
    },
    {
      "cell_type": "code",
      "metadata": {
        "colab": {
          "base_uri": "https://localhost:8080/",
          "height": 1000
        },
        "id": "HQFCarDNgllr",
        "outputId": "8e44bb64-7829-4d69-907f-4fbe9002f07a"
      },
      "source": [
        "history=model.fit(X_train, y_train,\n",
        "          batch_size=32,\n",
        "          epochs=10,\n",
        "            validation_data=(X_test, y_test),callbacks=[PlotLearning()])"
      ],
      "execution_count": null,
      "outputs": [
        {
          "output_type": "stream",
          "text": [
            "Epoch 1/10\n",
            "712/712 [==============================] - ETA: 0s - loss: 0.5649 - acc: 0.7074"
          ],
          "name": "stdout"
        },
        {
          "output_type": "display_data",
          "data": {
            "text/plain": [
              "<Figure size 432x288 with 0 Axes>"
            ]
          },
          "metadata": {
            "tags": []
          }
        },
        {
          "output_type": "display_data",
          "data": {
            "image/png": "[encoded data removed]",
            "text/plain": [
              "<Figure size 432x288 with 2 Axes>"
            ]
          },
          "metadata": {
            "tags": [],
            "needs_background": "light"
          }
        },
        {
          "output_type": "stream",
          "text": [
            "\b\b\b\b\b\b\b\b\b\b\b\b\b\b\b\b\b\b\b\b\b\b\b\b\b\b\b\b\b\b\b\b\b\b\b\b\b\b\b\b\b\b\b\b\b\b\b\b\b\b\b\b\b\b\b\b\b\b\b\b\b\b\b\b\b\b\b\b\b\b\b\b\b\b\b\b\b\b\b\r712/712 [==============================] - 380s 534ms/step - loss: 0.5649 - acc: 0.7074 - val_loss: 0.4208 - val_acc: 0.8053\n",
            "Epoch 2/10\n",
            "712/712 [==============================] - ETA: 0s - loss: 0.4060 - acc: 0.8205"
          ],
          "name": "stdout"
        },
        {
          "output_type": "display_data",
          "data": {
            "image/png": "[encoded data removed]",
            "text/plain": [
              "<Figure size 432x288 with 2 Axes>"
            ]
          },
          "metadata": {
            "tags": [],
            "needs_background": "light"
          }
        },
        {
          "output_type": "stream",
          "text": [
            "\b\b\b\b\b\b\b\b\b\b\b\b\b\b\b\b\b\b\b\b\b\b\b\b\b\b\b\b\b\b\b\b\b\b\b\b\b\b\b\b\b\b\b\b\b\b\b\b\b\b\b\b\b\b\b\b\b\b\b\b\b\b\b\b\b\b\b\b\b\b\b\b\b\b\b\b\b\b\b\r712/712 [==============================] - 407s 572ms/step - loss: 0.4060 - acc: 0.8205 - val_loss: 0.3551 - val_acc: 0.8390\n",
            "Epoch 3/10\n",
            "712/712 [==============================] - ETA: 0s - loss: 0.3435 - acc: 0.8546"
          ],
          "name": "stdout"
        },
        {
          "output_type": "display_data",
          "data": {
            "image/png": "[encoded data removed]",
            "text/plain": [
              "<Figure size 432x288 with 2 Axes>"
            ]
          },
          "metadata": {
            "tags": [],
            "needs_background": "light"
          }
        },
        {
          "output_type": "stream",
          "text": [
            "\b\b\b\b\b\b\b\b\b\b\b\b\b\b\b\b\b\b\b\b\b\b\b\b\b\b\b\b\b\b\b\b\b\b\b\b\b\b\b\b\b\b\b\b\b\b\b\b\b\b\b\b\b\b\b\b\b\b\b\b\b\b\b\b\b\b\b\b\b\b\b\b\b\b\b\b\b\b\b\r712/712 [==============================] - 388s 544ms/step - loss: 0.3435 - acc: 0.8546 - val_loss: 0.3259 - val_acc: 0.8549\n",
            "Epoch 4/10\n",
            "712/712 [==============================] - ETA: 0s - loss: 0.3121 - acc: 0.8683"
          ],
          "name": "stdout"
        },
        {
          "output_type": "display_data",
          "data": {
            "image/png": "[encoded data removed]",
            "text/plain": [
              "<Figure size 432x288 with 2 Axes>"
            ]
          },
          "metadata": {
            "tags": [],
            "needs_background": "light"
          }
        },
        {
          "output_type": "stream",
          "text": [
            "\b\b\b\b\b\b\b\b\b\b\b\b\b\b\b\b\b\b\b\b\b\b\b\b\b\b\b\b\b\b\b\b\b\b\b\b\b\b\b\b\b\b\b\b\b\b\b\b\b\b\b\b\b\b\b\b\b\b\b\b\b\b\b\b\b\b\b\b\b\b\b\b\b\b\b\b\b\b\b\r712/712 [==============================] - 379s 533ms/step - loss: 0.3121 - acc: 0.8683 - val_loss: 0.3351 - val_acc: 0.8526\n",
            "Epoch 5/10\n",
            "712/712 [==============================] - ETA: 0s - loss: 0.2742 - acc: 0.8866"
          ],
          "name": "stdout"
        },
        {
          "output_type": "display_data",
          "data": {
            "image/png": "[encoded data removed]",
            "text/plain": [
              "<Figure size 432x288 with 2 Axes>"
            ]
          },
          "metadata": {
            "tags": [],
            "needs_background": "light"
          }
        },
        {
          "output_type": "stream",
          "text": [
            "\b\b\b\b\b\b\b\b\b\b\b\b\b\b\b\b\b\b\b\b\b\b\b\b\b\b\b\b\b\b\b\b\b\b\b\b\b\b\b\b\b\b\b\b\b\b\b\b\b\b\b\b\b\b\b\b\b\b\b\b\b\b\b\b\b\b\b\b\b\b\b\b\b\b\b\b\b\b\b\r712/712 [==============================] - 402s 565ms/step - loss: 0.2742 - acc: 0.8866 - val_loss: 0.3294 - val_acc: 0.8612\n",
            "Epoch 6/10\n",
            "712/712 [==============================] - ETA: 0s - loss: 0.2415 - acc: 0.9020"
          ],
          "name": "stdout"
        },
        {
          "output_type": "display_data",
          "data": {
            "image/png": "[encoded data removed]",
            "text/plain": [
              "<Figure size 432x288 with 2 Axes>"
            ]
          },
          "metadata": {
            "tags": [],
            "needs_background": "light"
          }
        },
        {
          "output_type": "stream",
          "text": [
            "\b\b\b\b\b\b\b\b\b\b\b\b\b\b\b\b\b\b\b\b\b\b\b\b\b\b\b\b\b\b\b\b\b\b\b\b\b\b\b\b\b\b\b\b\b\b\b\b\b\b\b\b\b\b\b\b\b\b\b\b\b\b\b\b\b\b\b\b\b\b\b\b\b\b\b\b\b\b\b\r712/712 [==============================] - 405s 569ms/step - loss: 0.2415 - acc: 0.9020 - val_loss: 0.3338 - val_acc: 0.8673\n",
            "Epoch 7/10\n",
            "712/712 [==============================] - ETA: 0s - loss: 0.2113 - acc: 0.9136"
          ],
          "name": "stdout"
        },
        {
          "output_type": "display_data",
          "data": {
            "image/png": "[encoded data removed]",
            "text/plain": [
              "<Figure size 432x288 with 2 Axes>"
            ]
          },
          "metadata": {
            "tags": [],
            "needs_background": "light"
          }
        },
        {
          "output_type": "stream",
          "text": [
            "\b\b\b\b\b\b\b\b\b\b\b\b\b\b\b\b\b\b\b\b\b\b\b\b\b\b\b\b\b\b\b\b\b\b\b\b\b\b\b\b\b\b\b\b\b\b\b\b\b\b\b\b\b\b\b\b\b\b\b\b\b\b\b\b\b\b\b\b\b\b\b\b\b\b\b\b\b\b\b\r712/712 [==============================] - 404s 567ms/step - loss: 0.2113 - acc: 0.9136 - val_loss: 0.3373 - val_acc: 0.8654\n",
            "Epoch 8/10\n",
            "712/712 [==============================] - ETA: 0s - loss: 0.1900 - acc: 0.9233"
          ],
          "name": "stdout"
        },
        {
          "output_type": "display_data",
          "data": {
            "image/png": "[encoded data removed]",
            "text/plain": [
              "<Figure size 432x288 with 2 Axes>"
            ]
          },
          "metadata": {
            "tags": [],
            "needs_background": "light"
          }
        },
        {
          "output_type": "stream",
          "text": [
            "\b\b\b\b\b\b\b\b\b\b\b\b\b\b\b\b\b\b\b\b\b\b\b\b\b\b\b\b\b\b\b\b\b\b\b\b\b\b\b\b\b\b\b\b\b\b\b\b\b\b\b\b\b\b\b\b\b\b\b\b\b\b\b\b\b\b\b\b\b\b\b\b\b\b\b\b\b\b\b\r712/712 [==============================] - 388s 545ms/step - loss: 0.1900 - acc: 0.9233 - val_loss: 0.3350 - val_acc: 0.8701\n",
            "Epoch 9/10\n",
            "712/712 [==============================] - ETA: 0s - loss: 0.1614 - acc: 0.9368"
          ],
          "name": "stdout"
        },
        {
          "output_type": "display_data",
          "data": {
            "image/png": "[encoded data removed]",
            "text/plain": [
              "<Figure size 432x288 with 2 Axes>"
            ]
          },
          "metadata": {
            "tags": [],
            "needs_background": "light"
          }
        },
        {
          "output_type": "stream",
          "text": [
            "\b\b\b\b\b\b\b\b\b\b\b\b\b\b\b\b\b\b\b\b\b\b\b\b\b\b\b\b\b\b\b\b\b\b\b\b\b\b\b\b\b\b\b\b\b\b\b\b\b\b\b\b\b\b\b\b\b\b\b\b\b\b\b\b\b\b\b\b\b\b\b\b\b\b\b\b\b\b\b\r712/712 [==============================] - 380s 533ms/step - loss: 0.1614 - acc: 0.9368 - val_loss: 0.3468 - val_acc: 0.8730\n",
            "Epoch 10/10\n",
            "712/712 [==============================] - ETA: 0s - loss: 0.1549 - acc: 0.9375"
          ],
          "name": "stdout"
        },
        {
          "output_type": "display_data",
          "data": {
            "image/png": "[encoded data removed]",
            "text/plain": [
              "<Figure size 432x288 with 2 Axes>"
            ]
          },
          "metadata": {
            "tags": [],
            "needs_background": "light"
          }
        },
        {
          "output_type": "stream",
          "text": [
            "\b\b\b\b\b\b\b\b\b\b\b\b\b\b\b\b\b\b\b\b\b\b\b\b\b\b\b\b\b\b\b\b\b\b\b\b\b\b\b\b\b\b\b\b\b\b\b\b\b\b\b\b\b\b\b\b\b\b\b\b\b\b\b\b\b\b\b\b\b\b\b\b\b\b\b\b\b\b\b\r712/712 [==============================] - 379s 532ms/step - loss: 0.1549 - acc: 0.9375 - val_loss: 0.3762 - val_acc: 0.8684\n"
          ],
          "name": "stdout"
        }
      ]
    },
    {
      "cell_type": "code",
      "metadata": {
        "colab": {
          "base_uri": "https://localhost:8080/"
        },
        "id": "6V5FcvDqgloM",
        "outputId": "7c4ef72d-0752-4e16-e89a-31ee97b282f8"
      },
      "source": [
        "rnn_score = model.evaluate(X_test,y_test)\n"
      ],
      "execution_count": null,
      "outputs": [
        {
          "output_type": "stream",
          "text": [
            "178/178 [==============================] - 30s 170ms/step - loss: 0.3762 - acc: 0.8684\n"
          ],
          "name": "stdout"
        }
      ]
    },
    {
      "cell_type": "code",
      "metadata": {
        "colab": {
          "base_uri": "https://localhost:8080/"
        },
        "id": "fq7mfk6pglrN",
        "outputId": "6a556ac1-2f3d-422e-c17f-45386832f96c"
      },
      "source": [
        "rnn_score"
      ],
      "execution_count": null,
      "outputs": [
        {
          "output_type": "execute_result",
          "data": {
            "text/plain": [
              "[0.37615230679512024, 0.8683887124061584]"
            ]
          },
          "metadata": {
            "tags": []
          },
          "execution_count": 111
        }
      ]
    },
    {
      "cell_type": "code",
      "metadata": {
        "id": "ILMQGQl_gluE"
      },
      "source": [
        ""
      ],
      "execution_count": null,
      "outputs": []
    },
    {
      "cell_type": "code",
      "metadata": {
        "id": "PQLcyi8Ne0Y4"
      },
      "source": [
        "result_dict = {\"Logistic Regression\":logistic_score *100,\"SVC with L1\":svc_l1_score*100,\"SVC with L2\":svc_l2_score *100,\"Multinomial NB\":naive_score*100,\n",
        "                  \"Random Forest\":(random_fo_score) *100, \"RNN\":rnn_score[1] *100 }"
      ],
      "execution_count": null,
      "outputs": []
    },
    {
      "cell_type": "code",
      "metadata": {
        "id": "Iesb1wPyf-6u"
      },
      "source": [
        ""
      ],
      "execution_count": null,
      "outputs": []
    },
    {
      "cell_type": "code",
      "metadata": {
        "colab": {
          "base_uri": "https://localhost:8080/",
          "height": 607
        },
        "id": "WBm_Kc22e6W9",
        "outputId": "52794ccf-9106-4ba4-86ee-549745b9959c"
      },
      "source": [
        "fig = plt.figure(figsize=(15,10))\n",
        "\n",
        "plt.bar(range(len(result_dict)), list(result_dict.values()), align='center')\n",
        "plt.xticks(range(len(result_dict)), list(result_dict.keys()))\n",
        "plt.title(\"Model Evaluation\")\n",
        "plt.show()"
      ],
      "execution_count": null,
      "outputs": [
        {
          "output_type": "display_data",
          "data": {
            "image/png": "[encoded data removed]",
            "text/plain": [
              "<Figure size 1080x720 with 1 Axes>"
            ]
          },
          "metadata": {
            "tags": [],
            "needs_background": "light"
          }
        }
      ]
    },
    {
      "cell_type": "code",
      "metadata": {
        "id": "3ye9nbolfbwH"
      },
      "source": [
        ""
      ],
      "execution_count": null,
      "outputs": []
    }
  ]
}